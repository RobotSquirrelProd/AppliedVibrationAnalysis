{
 "cells": [
  {
   "cell_type": "markdown",
   "metadata": {},
   "source": [
    "# Rigol DS1054Z scope interface test harness"
   ]
  },
  {
   "cell_type": "markdown",
   "metadata": {},
   "source": [
    "https://readthedocs.org/projects/ds1054z/downloads/pdf/stable/"
   ]
  },
  {
   "cell_type": "markdown",
   "metadata": {},
   "source": [
    "### Import the libraries"
   ]
  },
  {
   "cell_type": "code",
   "execution_count": 1,
   "metadata": {},
   "outputs": [],
   "source": [
    "from ds1054z import DS1054Z\n",
    "import matplotlib.pyplot as plt\n",
    "import numpy as np\n",
    "import scipy.io as sio\n",
    "import scipy.signal as sig\n",
    "import pyvisa as visa\n",
    "import time\n",
    "import os\n",
    "import shutil"
   ]
  },
  {
   "cell_type": "markdown",
   "metadata": {},
   "source": [
    "### Import local library"
   ]
  },
  {
   "cell_type": "code",
   "execution_count": 2,
   "metadata": {},
   "outputs": [],
   "source": [
    "import fcn_scope_ds1054z as scope_ix"
   ]
  },
  {
   "cell_type": "markdown",
   "metadata": {},
   "source": [
    "#### Print documentation - scope setup"
   ]
  },
  {
   "cell_type": "code",
   "execution_count": 3,
   "metadata": {},
   "outputs": [
    {
     "name": "stdout",
     "output_type": "stream",
     "text": [
      "Help on function b_setup_scope in module fcn_scope_ds1054z:\n",
      "\n",
      "b_setup_scope(scope_con, lst_ch_active=[True, False, False, False], lst_ac_coupled=[True, True, True, True], lst_ch_scale=[0.5, 1.0, 1.0, 1.0], timebase_scale=0.05, d_trigger_level=0.1, b_single=True)\n",
      "    Setup Rigol ds1054z to read data from one or more channels\n",
      "    \n",
      "    Keyword arguments:\n",
      "    scope_con -- Connection to scope. Usually\n",
      "        the value returned from the 'DS1054Z('192.168.1.206')' call.\n",
      "    lst_ch_active -- List of booleans describing active channels\n",
      "        (default: [True, False, False, False] which sets only channel 1\n",
      "        active).\n",
      "    lst_ac_coupled -- Boolean list describing ac-coupled state for \n",
      "        each channel (default: [True, True, True, True], all channels\n",
      "        set to AC-coupled)\n",
      "    lst_ch_scale  -- List with channel scale (default: [5.e-1, 1., 1., 1.] volts)\n",
      "    timebase_scale -- Time scale for data (default: 0.005 seconds)\n",
      "    d_trigger_level -- Voltage level to trigger scope (default: 0.1 volts)\n",
      "    b_trigger -- If true, then use trigger levels and capture only\n",
      "        a single shot (default: True)\n",
      "    \n",
      "    Return values:\n",
      "    d_ch1_scale_actual -- The closest value chosen by the scope\n",
      "\n"
     ]
    }
   ],
   "source": [
    "help(scope_ix.b_setup_scope)"
   ]
  },
  {
   "cell_type": "markdown",
   "metadata": {},
   "source": [
    "#### Print documentation - trigger setup"
   ]
  },
  {
   "cell_type": "code",
   "execution_count": 4,
   "metadata": {},
   "outputs": [
    {
     "name": "stdout",
     "output_type": "stream",
     "text": [
      "Help on function b_set_trigger in module fcn_scope_ds1054z:\n",
      "\n",
      "b_set_trigger(scope_con, d_trigger_level=0.1)\n",
      "    Set the trigger configuration\n",
      "    \n",
      "    Keyword arguments:\n",
      "    scope_con -- Connection to scope. Usually\n",
      "        the value returned from the 'DS1054Z('192.168.1.206')' call.\n",
      "    d_trigger_level -- Voltage level to trigger scope (default: 0.1 volts)\n",
      "    \n",
      "    Return values:\n",
      "    [None]\n",
      "\n"
     ]
    }
   ],
   "source": [
    "help(scope_ix.b_set_trigger)"
   ]
  },
  {
   "cell_type": "markdown",
   "metadata": {},
   "source": [
    "#### Print documentation - get data"
   ]
  },
  {
   "cell_type": "code",
   "execution_count": 5,
   "metadata": {},
   "outputs": [
    {
     "name": "stdout",
     "output_type": "stream",
     "text": [
      "Help on function d_get_data in module fcn_scope_ds1054z:\n",
      "\n",
      "d_get_data(scope_con, lst_ch_active=[True, False, False, False], timebase_scale=0.05)\n",
      "    Get data from the scope\n",
      "    \n",
      "    Keyword arguments:\n",
      "    scope_con -- Scope connection handle (Required). Usually\n",
      "        the value returned from the 'DS1054Z('192.168.1.206')' call.\n",
      "    lst_ch_active -- List of booleans describing active channels\n",
      "        (default: [True, False, False, False] which sets only channel 1\n",
      "        active). This should exactly match the values used to setup the\n",
      "        scope.\n",
      "    timebase_scale -- Scope time scale (default: 5e-2)\n",
      "    \n",
      "    Return values:\n",
      "    lst_d_ch -- list of numpy array of values from the scope:\n",
      "        [np_d_ch1, np_d_ch2, np_d_ch3, np_d_ch4]. If channel\n",
      "        was not selected for data capture it will be empty ([])\n",
      "\n"
     ]
    }
   ],
   "source": [
    "help(scope_ix.d_get_data)"
   ]
  },
  {
   "cell_type": "markdown",
   "metadata": {},
   "source": [
    "### Verify scope connection"
   ]
  },
  {
   "cell_type": "code",
   "execution_count": 6,
   "metadata": {},
   "outputs": [],
   "source": [
    "scope = DS1054Z('192.168.1.206')"
   ]
  },
  {
   "cell_type": "code",
   "execution_count": 7,
   "metadata": {},
   "outputs": [
    {
     "name": "stdout",
     "output_type": "stream",
     "text": [
      "RIGOL TECHNOLOGIES,DS1054Z,DS1ZA200902668,00.04.04.SP3\n"
     ]
    }
   ],
   "source": [
    "print(scope.idn)"
   ]
  },
  {
   "cell_type": "markdown",
   "metadata": {},
   "source": [
    "### Setup the test sequence"
   ]
  },
  {
   "cell_type": "markdown",
   "metadata": {},
   "source": [
    "This test assumes there is a once-per-turn tachometer signal (AC-coupled and amplitude at least 0.3 volts peak to peak) at ~500 RPM on CH1 and a signal on CH2"
   ]
  },
  {
   "cell_type": "code",
   "execution_count": 8,
   "metadata": {},
   "outputs": [],
   "source": [
    "str_data_prefix = 'test001'\n",
    "idx_data = 0\n",
    "d_timebase_scale = 1e-1\n",
    "d_ch1_scale = 5.e-1"
   ]
  },
  {
   "cell_type": "markdown",
   "metadata": {},
   "source": [
    "#### Setup the scope for the trial sample acquisition on just channel 1"
   ]
  },
  {
   "cell_type": "code",
   "execution_count": 9,
   "metadata": {},
   "outputs": [],
   "source": [
    "lst_ch_active = [True, False, False, False]\n",
    "lst_ch_scale=[5.e-1, 1., 1., 1.]\n",
    "d_ch1_scale = scope_ix.b_setup_scope(scope, lst_ch_scale=lst_ch_scale, lst_ch_active = lst_ch_active,\n",
    "          timebase_scale=d_timebase_scale, d_trigger_level = 1e-01, b_single = False)"
   ]
  },
  {
   "cell_type": "markdown",
   "metadata": {},
   "source": [
    "Acquire the test samples for channel 1"
   ]
  },
  {
   "cell_type": "code",
   "execution_count": 10,
   "metadata": {},
   "outputs": [],
   "source": [
    "lst_d_ch = scope_ix.d_get_data(scope_con=scope, lst_ch_active = lst_ch_active, \n",
    "            timebase_scale=d_timebase_scale)"
   ]
  },
  {
   "cell_type": "code",
   "execution_count": 11,
   "metadata": {},
   "outputs": [
    {
     "data": {
      "image/png": "[encoded data removed]",
      "text/plain": [
       "<Figure size 432x288 with 1 Axes>"
      ]
     },
     "metadata": {
      "needs_background": "light"
     },
     "output_type": "display_data"
    }
   ],
   "source": [
    "plt.plot(lst_d_ch[0])\n",
    "assert np.max(lst_d_ch[0])>1e-1, 'Failed to find CH1 signal'\n",
    "assert lst_d_ch[1].size == 0, 'Failed to return empty CH2 array'\n",
    "assert lst_d_ch[2].size == 0, 'Failed to return empty CH3 array'\n",
    "assert lst_d_ch[3].size == 0, 'Failed to return empty CH4 array'"
   ]
  },
  {
   "cell_type": "markdown",
   "metadata": {},
   "source": [
    "#### Setup the scope for the trial sample acquisition on channel 1 and channel 2"
   ]
  },
  {
   "cell_type": "code",
   "execution_count": 12,
   "metadata": {},
   "outputs": [],
   "source": [
    "lst_ch_active = [True, True, False, False]\n",
    "lst_ch_scale=[5.e-1, 2., 1., 1.]\n",
    "d_ch1_scale = scope_ix.b_setup_scope(scope, lst_ch_scale=lst_ch_scale, lst_ch_active = lst_ch_active,\n",
    "          timebase_scale=d_timebase_scale, d_trigger_level = 1e-01, b_single = False)"
   ]
  },
  {
   "cell_type": "markdown",
   "metadata": {},
   "source": [
    "Acquire the test samples for channel 1 and channel 2"
   ]
  },
  {
   "cell_type": "code",
   "execution_count": 13,
   "metadata": {},
   "outputs": [],
   "source": [
    "lst_d_ch = scope_ix.d_get_data(scope_con=scope, lst_ch_active = lst_ch_active, \n",
    "            timebase_scale=d_timebase_scale)"
   ]
  },
  {
   "cell_type": "code",
   "execution_count": 14,
   "metadata": {},
   "outputs": [
    {
     "data": {
      "image/png": "[encoded data removed]",
      "text/plain": [
       "<Figure size 432x288 with 1 Axes>"
      ]
     },
     "metadata": {
      "needs_background": "light"
     },
     "output_type": "display_data"
    }
   ],
   "source": [
    "plt.plot(lst_d_ch[0])\n",
    "plt.plot(lst_d_ch[1])\n",
    "assert np.max(lst_d_ch[0])>1e-1, 'Failed to find CH1 signal'\n",
    "assert np.max(lst_d_ch[1])>1e-1, 'Failed to find CH2 signal'\n",
    "assert lst_d_ch[2].size == 0, 'Failed to return empty CH3 array'\n",
    "assert lst_d_ch[3].size == 0, 'Failed to return empty CH4 array'"
   ]
  },
  {
   "cell_type": "code",
   "execution_count": null,
   "metadata": {},
   "outputs": [],
   "source": []
  },
  {
   "cell_type": "code",
   "execution_count": null,
   "metadata": {},
   "outputs": [],
   "source": []
  }
 ],
 "metadata": {
  "kernelspec": {
   "display_name": "Python 3 (ipykernel)",
   "language": "python",
   "name": "python3"
  },
  "language_info": {
   "codemirror_mode": {
    "name": "ipython",
    "version": 3
   },
   "file_extension": ".py",
   "mimetype": "text/x-python",
   "name": "python",
   "nbconvert_exporter": "python",
   "pygments_lexer": "ipython3",
   "version": "3.8.11"
  }
 },
 "nbformat": 4,
 "nbformat_minor": 4
}
