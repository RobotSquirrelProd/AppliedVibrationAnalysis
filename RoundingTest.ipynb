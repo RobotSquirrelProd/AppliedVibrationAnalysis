{
 "cells": [
  {
   "cell_type": "markdown",
   "id": "6fceaea8",
   "metadata": {},
   "source": [
    "# Rounding Test Harness"
   ]
  },
  {
   "cell_type": "markdown",
   "id": "399c60a2",
   "metadata": {},
   "source": [
    "## Copyright"
   ]
  },
  {
   "cell_type": "markdown",
   "id": "93a97147",
   "metadata": {},
   "source": [
    "Copyright 2024 Robot Squirrel Productions.\n",
    "\n",
    "      (\\_   _/)\n",
    "      ( o   o )\n",
    "      (  ^_^  )\n",
    "         \\_/_\n",
    "Confidential and proprietary computer code and data.\n",
    "\n",
    "All rights reserved.\n",
    "\n",
    "This computer code is proprietary to Robot Squirrel Productions and/or its affiliate(s) and may be covered by patents. It may not be used, disclosed, modified, transferred, or reproduced without prior written consent."
   ]
  },
  {
   "cell_type": "markdown",
   "id": "d49c6240",
   "metadata": {},
   "source": [
    "## Import Libraries"
   ]
  },
  {
   "cell_type": "code",
   "execution_count": 1,
   "id": "5120ebec",
   "metadata": {},
   "outputs": [],
   "source": [
    "import numpy as np"
   ]
  },
  {
   "cell_type": "code",
   "execution_count": 2,
   "id": "147d91a7",
   "metadata": {},
   "outputs": [],
   "source": [
    "def get_plot_round(d_num):\n",
    "    \"\"\"\n",
    "    Why another round function? Indeed, this one is designed to give a reasonable\n",
    "    look to the grid lines. This function is mocked up in RoundingTest.ipynb\n",
    "\n",
    "    Parameters\n",
    "    ----------\n",
    "    d_num : double\n",
    "        Number to be rounded\n",
    "\n",
    "    Return\n",
    "    ------\n",
    "    list\n",
    "        double : number rounded off\n",
    "        string : format string\n",
    "    \"\"\"\n",
    "\n",
    "    # Set the format string\n",
    "    d_exp = np.log10(abs(d_num))\n",
    "    i_round = int(round(d_exp, 0)) - 1\n",
    "    \n",
    "    # I'm tuning this a little bit because I want to see\n",
    "    # decimal places when numbers are less than 10\n",
    "    if abs(d_num) > 0.1 and abs(d_num) <=10:\n",
    "        i_round = -1\n",
    "        \n",
    "    # Round the value\n",
    "    d_round = round(d_num, -i_round)\n",
    "\n",
    "    # Set up the format string\n",
    "    if i_round <= 0:\n",
    "        str_format = '%0.' + '%0.0f' % -i_round + 'f'\n",
    "    else:\n",
    "        str_format = '%' + '%0.0f' % i_round + '.0f'\n",
    "\n",
    "    print('d_exp %0.9f' % d_exp)\n",
    "    print('i_round %0.0f' % i_round)\n",
    "    print('Test ' + str_format % d_num)      \n",
    "    \n",
    "    return [d_round, str_format]"
   ]
  },
  {
   "cell_type": "code",
   "execution_count": 3,
   "id": "181d951b",
   "metadata": {},
   "outputs": [
    {
     "name": "stdout",
     "output_type": "stream",
     "text": [
      "d_exp -1.522878745\n",
      "i_round -3\n",
      "Test 0.030\n"
     ]
    }
   ],
   "source": [
    "d_num = 0.03\n",
    "lst_round = get_plot_round(d_num)"
   ]
  },
  {
   "cell_type": "code",
   "execution_count": 4,
   "id": "5309e774",
   "metadata": {},
   "outputs": [
    {
     "name": "stdout",
     "output_type": "stream",
     "text": [
      "d_exp -0.522878745\n",
      "i_round -1\n",
      "Test 0.3\n"
     ]
    }
   ],
   "source": [
    "d_num = 0.3\n",
    "lst_round = get_plot_round(d_num)"
   ]
  },
  {
   "cell_type": "code",
   "execution_count": 11,
   "id": "16c9c024",
   "metadata": {},
   "outputs": [
    {
     "name": "stdout",
     "output_type": "stream",
     "text": [
      "d_exp -0.397940009\n",
      "i_round -1\n",
      "Test 0.4\n"
     ]
    }
   ],
   "source": [
    "d_num = 0.4\n",
    "lst_round = get_plot_round(d_num)"
   ]
  },
  {
   "cell_type": "code",
   "execution_count": 5,
   "id": "25334c4c",
   "metadata": {},
   "outputs": [
    {
     "name": "stdout",
     "output_type": "stream",
     "text": [
      "d_exp 0.477121255\n",
      "i_round -1\n",
      "Test 3.0\n"
     ]
    }
   ],
   "source": [
    "d_num = 3.0\n",
    "lst_round = get_plot_round(d_num)"
   ]
  },
  {
   "cell_type": "code",
   "execution_count": 6,
   "id": "93eed432",
   "metadata": {},
   "outputs": [
    {
     "name": "stdout",
     "output_type": "stream",
     "text": [
      "d_exp 0.518513940\n",
      "i_round -1\n",
      "Test 3.3\n"
     ]
    }
   ],
   "source": [
    "d_num = 3.3\n",
    "lst_round = get_plot_round(d_num)"
   ]
  },
  {
   "cell_type": "code",
   "execution_count": 7,
   "id": "2d158bdd",
   "metadata": {},
   "outputs": [
    {
     "name": "stdout",
     "output_type": "stream",
     "text": [
      "d_exp 0.986771734\n",
      "i_round -1\n",
      "Test 9.7\n"
     ]
    }
   ],
   "source": [
    "d_num = 9.7\n",
    "lst_round = get_plot_round(d_num)"
   ]
  },
  {
   "cell_type": "code",
   "execution_count": 8,
   "id": "4a28d626",
   "metadata": {},
   "outputs": [
    {
     "name": "stdout",
     "output_type": "stream",
     "text": [
      "d_exp 1.045322979\n",
      "i_round 0\n",
      "Test 11\n"
     ]
    }
   ],
   "source": [
    "d_num = 11.1\n",
    "lst_round = get_plot_round(d_num)"
   ]
  },
  {
   "cell_type": "code",
   "execution_count": 9,
   "id": "60662c23",
   "metadata": {},
   "outputs": [
    {
     "name": "stdout",
     "output_type": "stream",
     "text": [
      "d_exp 1.986771734\n",
      "i_round 1\n",
      "Test 97\n"
     ]
    }
   ],
   "source": [
    "d_num = 97\n",
    "lst_round = get_plot_round(d_num)"
   ]
  },
  {
   "cell_type": "code",
   "execution_count": 10,
   "id": "a8a30c6b",
   "metadata": {},
   "outputs": [
    {
     "name": "stdout",
     "output_type": "stream",
     "text": [
      "d_exp 2.986771734\n",
      "i_round 2\n",
      "Test 970\n"
     ]
    }
   ],
   "source": [
    "d_num = 970\n",
    "lst_round = get_plot_round(d_num)"
   ]
  }
 ],
 "metadata": {
  "kernelspec": {
   "display_name": "Python 3 (ipykernel)",
   "language": "python",
   "name": "python3"
  },
  "language_info": {
   "codemirror_mode": {
    "name": "ipython",
    "version": 3
   },
   "file_extension": ".py",
   "mimetype": "text/x-python",
   "name": "python",
   "nbconvert_exporter": "python",
   "pygments_lexer": "ipython3",
   "version": "3.11.5"
  }
 },
 "nbformat": 4,
 "nbformat_minor": 5
}
