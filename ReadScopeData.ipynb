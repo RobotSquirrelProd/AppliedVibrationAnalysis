{
 "cells": [
  {
   "cell_type": "markdown",
   "metadata": {},
   "source": [
    "# Read data from Rigol DS1054Z scope"
   ]
  },
  {
   "cell_type": "markdown",
   "metadata": {},
   "source": [
    "https://readthedocs.org/projects/ds1054z/downloads/pdf/stable/"
   ]
  },
  {
   "cell_type": "markdown",
   "metadata": {},
   "source": [
    "### Import the libraries"
   ]
  },
  {
   "cell_type": "code",
   "execution_count": 1,
   "metadata": {},
   "outputs": [],
   "source": [
    "from ds1054z import DS1054Z\n",
    "import matplotlib.pyplot as plt\n",
    "import numpy as np\n",
    "import math\n",
    "import scipy.io as sio\n",
    "import scipy.signal as sig\n",
    "from scipy.fft import rfft, rfftfreq\n",
    "import pyvisa as visa\n",
    "import time\n",
    "import os\n",
    "import shutil"
   ]
  },
  {
   "cell_type": "markdown",
   "metadata": {},
   "source": [
    "### Import local libraries"
   ]
  },
  {
   "cell_type": "code",
   "execution_count": 2,
   "metadata": {},
   "outputs": [],
   "source": [
    "from appvib import ClSigFeatures\n",
    "import fcn_scope_ds1054z as scope_ix"
   ]
  },
  {
   "cell_type": "markdown",
   "metadata": {},
   "source": [
    "### Define plot mode. \n",
    "Interactive mode is helpful for visuallizing the program execution"
   ]
  },
  {
   "cell_type": "code",
   "execution_count": 3,
   "metadata": {},
   "outputs": [],
   "source": [
    "#%matplotlib widget"
   ]
  },
  {
   "cell_type": "markdown",
   "metadata": {},
   "source": [
    "### Verify scope connection"
   ]
  },
  {
   "cell_type": "code",
   "execution_count": 4,
   "metadata": {},
   "outputs": [],
   "source": [
    "scope = DS1054Z('192.168.1.206')"
   ]
  },
  {
   "cell_type": "code",
   "execution_count": 5,
   "metadata": {},
   "outputs": [
    {
     "name": "stdout",
     "output_type": "stream",
     "text": [
      "RIGOL TECHNOLOGIES,DS1054Z,DS1ZA200902668,00.04.04.SP3\n"
     ]
    }
   ],
   "source": [
    "print(scope.idn)"
   ]
  },
  {
   "cell_type": "markdown",
   "metadata": {},
   "source": [
    "### Test Description"
   ]
  },
  {
   "cell_type": "markdown",
   "metadata": {},
   "source": [
    "This sheet is designed to take data on a Rigol DS1054z oscilloscope with channel 1 of the scope connected to an MSP6729 magnetic pick up viewing the chuck of a 7\" x 10\" mini lathe. \n",
    "\n",
    "Channel 1 common of the oscilloscope is connected to the magnetic pick up shield wire and the black wire. The signal of channel 1 is connected to the red wire of the mag pick up.\n",
    "\n",
    "Channel 2 is connect to an eddy-current sensor viewing the case of the lathe."
   ]
  },
  {
   "cell_type": "markdown",
   "metadata": {},
   "source": [
    "![alt text](IMG_8440_Scope2MagPickup_Labels.png \"Oscilloscope Connections\")"
   ]
  },
  {
   "cell_type": "markdown",
   "metadata": {},
   "source": [
    "#### Verify the help comments are at least somewhat on point"
   ]
  },
  {
   "cell_type": "code",
   "execution_count": 6,
   "metadata": {},
   "outputs": [
    {
     "name": "stdout",
     "output_type": "stream",
     "text": [
      "Help on function b_setup_scope in module fcn_scope_ds1054z:\n",
      "\n",
      "b_setup_scope(scope_con, lst_ch_active=[True, False, False, False], lst_ac_coupled=[True, True, True, True], lst_ch_scale=[0.5, 1.0, 1.0, 1.0], timebase_scale=0.05, d_trigger_level=0.1, b_single=True)\n",
      "    Setup Rigol ds1054z to read data from one or more channels\n",
      "    \n",
      "    Keyword arguments:\n",
      "    scope_con -- Connection to scope. Usually\n",
      "        the value returned from the 'DS1054Z('192.168.1.206')' call.\n",
      "    lst_ch_active -- List of booleans describing active channels\n",
      "        (default: [True, False, False, False] which sets only channel 1\n",
      "        active).\n",
      "    lst_ac_coupled -- Boolean list describing ac-coupled state for \n",
      "        each channel (default: [True, True, True, True], all channels\n",
      "        set to AC-coupled)\n",
      "    lst_ch_scale  -- List with channel scale (default: [5.e-1, 1., 1., 1.] volts)\n",
      "    timebase_scale -- Time scale for data (default: 0.005 seconds)\n",
      "    d_trigger_level -- Voltage level to trigger scope (default: 0.1 volts)\n",
      "    b_trigger -- If true, then use trigger levels and capture only\n",
      "        a single shot (default: True)\n",
      "    \n",
      "    Return values:\n",
      "    d_ch1_scale_actual -- The closest value chosen by the scope\n",
      "\n"
     ]
    }
   ],
   "source": [
    "help(scope_ix.b_setup_scope)"
   ]
  },
  {
   "cell_type": "markdown",
   "metadata": {},
   "source": [
    "#### Verify the help text"
   ]
  },
  {
   "cell_type": "code",
   "execution_count": 7,
   "metadata": {},
   "outputs": [
    {
     "name": "stdout",
     "output_type": "stream",
     "text": [
      "Help on function d_get_data in module fcn_scope_ds1054z:\n",
      "\n",
      "d_get_data(scope_con, lst_ch_active=[True, False, False, False], timebase_scale=0.05)\n",
      "    Get data from the scope\n",
      "    \n",
      "    Keyword arguments:\n",
      "    scope_con -- Scope connection handle (Required). Usually\n",
      "        the value returned from the 'DS1054Z('192.168.1.206')' call.\n",
      "    lst_ch_active -- List of booleans describing active channels\n",
      "        (default: [True, False, False, False] which sets only channel 1\n",
      "        active). This should exactly match the values used to setup the\n",
      "        scope.\n",
      "    timebase_scale -- Scope time scale (default: 5e-2)\n",
      "    \n",
      "    Return values:\n",
      "    lst_d_ch -- list of numpy array of values from the scope:\n",
      "        [np_d_sig, np_d_ch2, np_d_ch3, np_d_ch4]. If channel\n",
      "        was not selected for data capture it will be empty ([])\n",
      "\n"
     ]
    }
   ],
   "source": [
    "help(scope_ix.d_get_data)"
   ]
  },
  {
   "cell_type": "markdown",
   "metadata": {},
   "source": [
    "#### Verify help and class structure"
   ]
  },
  {
   "cell_type": "code",
   "execution_count": 8,
   "metadata": {},
   "outputs": [
    {
     "name": "stdout",
     "output_type": "stream",
     "text": [
      "Help on class ClSigFeatures in module appvib:\n",
      "\n",
      "class ClSigFeatures(builtins.object)\n",
      " |  ClSigFeatures(np_sig, d_fs)\n",
      " |  \n",
      " |  Class to manage signal features on scope data and other signals\n",
      " |  \n",
      " |  Example usage:\n",
      " |      cl_test = ClSigFeatures(np.array([1.,2., 3.]),1.1)\n",
      " |  \n",
      " |  Should produce:\n",
      " |  \n",
      " |      print('np_d_sig: '+ np.array2string(cl_test.np_d_sig))\n",
      " |      print('timebase_scale: ' + '%0.3f' % cl_test.timebase_scale)\n",
      " |      print('i_ns: ' + '%3.f' % cl_test.i_ns)\n",
      " |      print('d_t_del: ' + '%0.3f' % cl_test.d_t_del)\n",
      " |      print('d_time' + np.array2string(cl_test.d_time))\n",
      " |  \n",
      " |      np_d_sig: [1. 2. 3.]\n",
      " |      timebase_scale: 1.000\n",
      " |      i_ns:   3\n",
      " |      d_t_del: 4.000\n",
      " |      d_time[0. 4. 8.]\n",
      " |  \n",
      " |      Attributes\n",
      " |      ----------\n",
      " |  \n",
      " |      Methods\n",
      " |      -------\n",
      " |  \n",
      " |  Methods defined here:\n",
      " |  \n",
      " |  __init__(self, np_sig, d_fs)\n",
      " |      Parameters\n",
      " |      ----------\n",
      " |      np_sig : numpy array\n",
      " |          Vector with the signal of interest. Can be real- or complex-valued.\n",
      " |      d_fs : double\n",
      " |          Describes the sampling frequency in samples/second (hertz).\n",
      " |  \n",
      " |  b_save_data(self, str_data_prefix='test_class', idx_file=1)\n",
      " |      Save the data in the object to a .csv file\n",
      " |      \n",
      " |      Parameters\n",
      " |      ----------\n",
      " |      str_data_prefix : string\n",
      " |          String with file prefix (defaults to 'test_class')\n",
      " |      idx_file : integer\n",
      " |          File index (defaults to 0)\n",
      " |      \n",
      " |      Return values:\n",
      " |      True if write succeeds\n",
      " |  \n",
      " |  calc_nx(self, np_sig_in, d_eventtimes, b_verbose=True, idx=0)\n",
      " |      This method calls the estimation method for each signal\n",
      " |      \n",
      " |      Parameters\n",
      " |      ----------\n",
      " |      np_sig_in : numpy array\n",
      " |          Signal to be evaluated for crossings\n",
      " |      d_eventtimes : numpy array\n",
      " |          Vector of trigger event times\n",
      " |      b_verbose : boolean\n",
      " |          Print the intermediate steps (default: False). Useful for stepping through the\n",
      " |          method to troubleshoot or understand it better.\n",
      " |      idx : integer\n",
      " |          Index of signal to pull description. Defaults to 0 (first signal)\n",
      " |      \n",
      " |      Returns\n",
      " |      -------\n",
      " |      numpy array : list of trigger event times\n",
      " |  \n",
      " |  d_est_rpm(self, d_events_per_rev=1)\n",
      " |      Estimate the RPM from the signal using eventtimes which must have\n",
      " |      calculated from a previous call to the method np_d_est_triggers.\n",
      " |  \n",
      " |  d_fs(self, idx=0)\n",
      " |      Return the Sampling frequency in hertz\n",
      " |      \n",
      " |      Parameter\n",
      " |      ---------\n",
      " |      idx : integer\n",
      " |          Index of signal to pull description. Defaults to 0 (first signal)\n",
      " |  \n",
      " |  d_fs_update(self, d_fs_in, idx=0)\n",
      " |      Set the sampling frequency in hertz\n",
      " |      \n",
      " |      Parameters\n",
      " |      ---------\n",
      " |      d_fs_in : double\n",
      " |          Describes the sampling frequency in samples/second (hertz).\n",
      " |      \n",
      " |      idx : integer\n",
      " |          Index of signal to pull description. Defaults to 0 (first signal)\n",
      " |  \n",
      " |  d_t_del(self, idx=0)\n",
      " |      Delta time between each sample. This is allowed to vary across the signals\n",
      " |      \n",
      " |      Return\n",
      " |      ------\n",
      " |      double : Length of time between each sample\n",
      " |      \n",
      " |      Parameter\n",
      " |      ---------\n",
      " |      idx : integer\n",
      " |          Index of signal to pull description. Defaults to 0 (first signal)\n",
      " |  \n",
      " |  get_np_d_sig(self, idx=0)\n",
      " |      Numpy array containing arbitrary signal\n",
      " |  \n",
      " |  idx_add_sig(self, np_sig_in, d_fs_in)\n",
      " |      Add another signal to this object.\n",
      " |      returns index to the newly added signal.\n",
      " |  \n",
      " |  np_d_est_triggers(self, np_sig_in, i_direction=0, d_threshold=0, d_hysteresis=0.1, b_verbose=False, idx=0)\n",
      " |      This method estimates speed by identifying trigger points in time,\n",
      " |      a given threshold and hysteresis. When the signal level crosses\n",
      " |      the threshold, the trigger holds off. The trigger holds off\n",
      " |      until the signal crosses the hysteresis level. Hysteresis is\n",
      " |      defined relative to the threshold voltage.\n",
      " |      \n",
      " |      The trigger times are a first-order approximation of the instantaneous\n",
      " |      frequency. Most commonly used to estimate the rotating speed from\n",
      " |      magnetic pick-ups or eddy-current probes.\n",
      " |      \n",
      " |      Parameters\n",
      " |      ----------\n",
      " |      np_sig_in : numpy array\n",
      " |          Signal to be evaluated for crossings\n",
      " |      i_direction : integer\n",
      " |          0 to search for threshold on rising signal, 1 to search on a falling signal.\n",
      " |      d_threshold : double\n",
      " |          Threshold value (default: 0.0 volts for zero crossings)\n",
      " |      d_hysteresis : double\n",
      " |          Hysteresis value (default: 0.1 volts)\n",
      " |      b_verbose : boolean\n",
      " |          Print the intermediate steps (default: False). Useful for stepping through the\n",
      " |          method to troubleshoot or understand it better.\n",
      " |      idx : integer\n",
      " |          Index of signal to pull description. Defaults to 0 (first signal)\n",
      " |      \n",
      " |      Returns\n",
      " |      -------\n",
      " |      numpy array : list of trigger event times\n",
      " |  \n",
      " |  np_d_eventtimes(self, idx=0)\n",
      " |      Numpy array of trigger event times\n",
      " |      \n",
      " |      Parameter\n",
      " |      ---------\n",
      " |      idx : integer\n",
      " |          Index of signal to pull description. Defaults to 0 (first signal)\n",
      " |  \n",
      " |  plt_bode(self, str_plot_bode_desc=None, idx=0)\n",
      " |      Plot out amplitude in phase in bode format\n",
      " |      \n",
      " |      Parameters\n",
      " |      ----------\n",
      " |      str_plot_bode_desc : string\n",
      " |          Description of data to be included in bode plot title\n",
      " |      idx : integer\n",
      " |          Index of signal to pull description. Defaults to 0 (first signal)\n",
      " |      \n",
      " |      Return values:\n",
      " |      handle to the plot\n",
      " |  \n",
      " |  plt_eventtimes(self)\n",
      " |      Plot event data in time.\n",
      " |      \n",
      " |      Return values:\n",
      " |      list: [handle to the plot, np array of eventtimes]\n",
      " |  \n",
      " |  plt_polar(self, str_plot_polar_desc=None, idx=0)\n",
      " |      Plot out amplitude in phase in polar format\n",
      " |      \n",
      " |      Parameters\n",
      " |      ----------\n",
      " |      str_plot_polar_desc : string\n",
      " |          Additional title text for the plot. If 'None' then method uses class attribute.\n",
      " |      idx : integer\n",
      " |          Index of signal to pull description. Defaults to 0 (first signal)\n",
      " |      \n",
      " |      Return values:\n",
      " |      handle to the plot\n",
      " |  \n",
      " |  plt_rpm(self)\n",
      " |      Plot rpm data in time.\n",
      " |      \n",
      " |      Return values:\n",
      " |      list: [handle to the plot, np array of RPM values]\n",
      " |  \n",
      " |  plt_sigs(self)\n",
      " |      Plot out the data in this signal feature class in the time domain\n",
      " |      \n",
      " |      Return values:\n",
      " |      handle to the plot\n",
      " |  \n",
      " |  plt_spec(self)\n",
      " |      Plot data in frequency domain. This method assumes a real signal\n",
      " |      \n",
      " |      Return values:\n",
      " |      list : [handle to the plot, frequency labels, complex-spectral values]\n",
      " |  \n",
      " |  str_eu(self, idx=0)\n",
      " |      Engineering unit descriptor\n",
      " |      \n",
      " |      Parameter\n",
      " |      ---------\n",
      " |      idx : integer\n",
      " |          Index of signal to pull description. Defaults to 0 (first signal)\n",
      " |  \n",
      " |  str_filt_butter_desc(self, idx=0)\n",
      " |      Complete description of the Butterworth filter design\n",
      " |      \n",
      " |      Parameter\n",
      " |      ---------\n",
      " |      idx : integer\n",
      " |          Index of signal to pull description. Defaults to 0 (first signal)\n",
      " |  \n",
      " |  str_filt_butter_desc_short(self, idx=0)\n",
      " |      Abbreviated description of the Butterworth filter design, useful for legend labels\n",
      " |      \n",
      " |      Parameter\n",
      " |      ---------\n",
      " |      idx : integer\n",
      " |          Index of signal to pull description. Defaults to 0 (first signal)\n",
      " |  \n",
      " |  str_filt_sg_desc(self, idx=0)\n",
      " |      Complete Filt description of the Savitsky-Golay filter design\n",
      " |  \n",
      " |  str_filt_sg_desc_short(self, idx=0)\n",
      " |      Short Filt description, useful for plot legend labels\n",
      " |  \n",
      " |  ylim_tb(self, ylim_tb_in=None, idx=0)\n",
      " |      Parameter\n",
      " |      ---------\n",
      " |      ylim_tb_in : list of doubles, None\n",
      " |          vertical plot limits. If set to None, returns the limits without change\n",
      " |      idx : integer\n",
      " |          Index of signal to pull description. Defaults to 0 (first signal)\n",
      " |      \n",
      " |      Returns\n",
      " |      -------\n",
      " |      list of doubles : ylim_tb applied to signal with index=idx\n",
      " |  \n",
      " |  ----------------------------------------------------------------------\n",
      " |  Readonly properties defined here:\n",
      " |  \n",
      " |  b_complex\n",
      " |  \n",
      " |  i_ns\n",
      " |      Number of samples\n",
      " |  \n",
      " |  np_d_rpm\n",
      " |      Estimated RPM values\n",
      " |  \n",
      " |  str_file\n",
      " |      Output (.csv) file name\n",
      " |  \n",
      " |  ----------------------------------------------------------------------\n",
      " |  Data descriptors defined here:\n",
      " |  \n",
      " |  __dict__\n",
      " |      dictionary for instance variables (if defined)\n",
      " |  \n",
      " |  __weakref__\n",
      " |      list of weak references to the object (if defined)\n",
      " |  \n",
      " |  b_spec_peak\n",
      " |      Boolean set to true to label peak in spectrum\n",
      " |  \n",
      " |  np_d_sig\n",
      " |      Numpy array containing the first signal\n",
      " |  \n",
      " |  str_plot_desc\n",
      " |      Plot description\n",
      "\n"
     ]
    }
   ],
   "source": [
    "help(ClSigFeatures)"
   ]
  },
  {
   "cell_type": "markdown",
   "metadata": {},
   "source": [
    "### Setup the test sequence"
   ]
  },
  {
   "cell_type": "markdown",
   "metadata": {},
   "source": [
    "Seed the sequence, these typically work well for 200-500 RPM and the mag pick-up gapped at 10 mils"
   ]
  },
  {
   "cell_type": "code",
   "execution_count": 9,
   "metadata": {},
   "outputs": [],
   "source": [
    "str_data_prefix = 'test_poc'\n",
    "idx_data_file = 0\n",
    "d_timebase_scale = 1e-1\n",
    "lst_ch_active = [True, True, False, False]\n",
    "lst_ch_scale=[5.e-1, 1., 1., 1.]"
   ]
  },
  {
   "cell_type": "markdown",
   "metadata": {},
   "source": [
    "#### Initialize the  trigger level"
   ]
  },
  {
   "cell_type": "code",
   "execution_count": 10,
   "metadata": {},
   "outputs": [],
   "source": [
    "d_trigger_level_in = 1e-1"
   ]
  },
  {
   "cell_type": "markdown",
   "metadata": {},
   "source": [
    "### Acquisition loop\n",
    "This loop has several steps:\n",
    "\n",
    "#### Acquire discovery signal\n",
    "The code does not assume an RPM so it derives it from signal features.\n",
    "\n",
    "#### Scope setup\n",
    "Setup the vertical and horizontal scales on the scope. For the first pass, no trigger is used and time scale is set so that at least 2 revolutions of the lathe should be seen in the signal. This lets us see if the signal is valid and how we want to configure the trigger.\n",
    "\n",
    "#### Initial acquisition\n",
    "Once the setup is complete acquire the data and push the information into the signal feature class. The speed will be used to set the timescale so that we get about 5 events in the scope window\n",
    "\n",
    "#### Visualize the data\n",
    "A few plots are presented of the scope data. Useful for troubleshooting\n",
    "\n",
    "#### Estimate the speed\n",
    "With the event frequency known, the scope timebase_scale can be calculated"
   ]
  },
  {
   "cell_type": "code",
   "execution_count": 11,
   "metadata": {},
   "outputs": [
    {
     "name": "stdout",
     "output_type": "stream",
     "text": [
      "Help on function np_d_est_triggers in module appvib:\n",
      "\n",
      "np_d_est_triggers(self, np_sig_in, i_direction=0, d_threshold=0, d_hysteresis=0.1, b_verbose=False, idx=0)\n",
      "    This method estimates speed by identifying trigger points in time,\n",
      "    a given threshold and hysteresis. When the signal level crosses\n",
      "    the threshold, the trigger holds off. The trigger holds off\n",
      "    until the signal crosses the hysteresis level. Hysteresis is\n",
      "    defined relative to the threshold voltage.\n",
      "    \n",
      "    The trigger times are a first-order approximation of the instantaneous\n",
      "    frequency. Most commonly used to estimate the rotating speed from\n",
      "    magnetic pick-ups or eddy-current probes.\n",
      "    \n",
      "    Parameters\n",
      "    ----------\n",
      "    np_sig_in : numpy array\n",
      "        Signal to be evaluated for crossings\n",
      "    i_direction : integer\n",
      "        0 to search for threshold on rising signal, 1 to search on a falling signal.\n",
      "    d_threshold : double\n",
      "        Threshold value (default: 0.0 volts for zero crossings)\n",
      "    d_hysteresis : double\n",
      "        Hysteresis value (default: 0.1 volts)\n",
      "    b_verbose : boolean\n",
      "        Print the intermediate steps (default: False). Useful for stepping through the\n",
      "        method to troubleshoot or understand it better.\n",
      "    idx : integer\n",
      "        Index of signal to pull description. Defaults to 0 (first signal)\n",
      "    \n",
      "    Returns\n",
      "    -------\n",
      "    numpy array : list of trigger event times\n",
      "\n"
     ]
    }
   ],
   "source": [
    "help(ClSigFeatures.np_d_est_triggers)"
   ]
  },
  {
   "cell_type": "code",
   "execution_count": null,
   "metadata": {},
   "outputs": [
    {
     "name": "stdout",
     "output_type": "stream",
     "text": [
      "lst_ch_scale[0] (requested): 0.500000\n",
      "d_ch1_scale (returned by scope): 0.500000\n",
      "d_trigger_level_in : 0.100000\n"
     ]
    },
    {
     "data": {
      "image/png": "[encoded data removed]",
      "text/plain": [
       "<Figure size 432x288 with 1 Axes>"
      ]
     },
     "metadata": {
      "needs_background": "light"
     },
     "output_type": "display_data"
    },
    {
     "name": "stdout",
     "output_type": "stream",
     "text": [
      "d_thresh_est: 0.1000\n"
     ]
    },
    {
     "data": {
      "image/png": "[encoded data removed]",
      "text/plain": [
       "<Figure size 432x288 with 1 Axes>"
      ]
     },
     "metadata": {
      "needs_background": "light"
     },
     "output_type": "display_data"
    },
    {
     "name": "stdout",
     "output_type": "stream",
     "text": [
      "d_timebase_scale (prior to adjustment): 0.100\n",
      "d_timebase_scale (after adjustment): 0.102\n",
      "d_pkpk: 0.3800\n",
      "d_volts_scale: 4.0000\n",
      "Voltage scale decreased\n",
      "d_ch1_scale: 0.2500\n"
     ]
    },
    {
     "data": {
      "image/png": "[encoded data removed]",
      "text/plain": [
       "<Figure size 432x288 with 2 Axes>"
      ]
     },
     "metadata": {
      "needs_background": "light"
     },
     "output_type": "display_data"
    }
   ],
   "source": [
    "while True:\n",
    "    \n",
    "    # Setup the scope for the trial sample acquisition, both channels\n",
    "    d_ch1_scale = scope_ix.b_setup_scope(scope, lst_ch_scale=lst_ch_scale, lst_ch_active = lst_ch_active,\n",
    "          timebase_scale=d_timebase_scale, d_trigger_level = d_trigger_level_in, b_single = False)\n",
    "    print('lst_ch_scale[0] (requested): ' + '%0.6f' % lst_ch_scale[0])\n",
    "    print('d_ch1_scale (returned by scope): ' + '%0.6f' % d_ch1_scale)\n",
    "    print('d_trigger_level_in : ' + '%0.6f' % d_trigger_level_in)\n",
    "    \n",
    "    # Acquire the test samples\n",
    "    lst_d_ch = scope_ix.d_get_data(scope_con=scope, lst_ch_active = lst_ch_active, \n",
    "                timebase_scale=d_timebase_scale)\n",
    "    \n",
    "    # Instatiate the class, send the waveform samples and scales\n",
    "    d_t_del = scope_ix.d_get_delta_time(d_timebase_scale, len(lst_d_ch[0]))\n",
    "    cl_sig_no_trigger = ClSigFeatures(lst_d_ch[0], 1./d_t_del)\n",
    "    cl_sig_no_trigger.np_d_ch2 = lst_d_ch[1]\n",
    "    \n",
    "    # Update the scope trigger level\n",
    "    d_trigger_level_in = lst_d_ch[0]\n",
    "    \n",
    "    # Plot out the signal in the as found condition\n",
    "    cl_sig_no_trigger.ylim_tb(ylim_tb_in = [-4.0*d_ch1_scale, 4.0*d_ch1_scale], idx=0)\n",
    "    hp = cl_sig_no_trigger.plt_sigs()\n",
    "    \n",
    "    # The shape of the response is similar as speed increased, but the\n",
    "    # triggering threshold has to increase to accomodate the higher\n",
    "    # amplitudes\n",
    "    d_thresh_est = 0.1 * (d_ch1_scale/0.5)\n",
    "    print('d_thresh_est: ' + '%0.4f' % d_thresh_est)\n",
    "    \n",
    "    # Calculate the trigger event times\n",
    "    np_d_eventtimes = cl_sig_no_trigger.np_d_est_triggers(np_sig_in=cl_sig_no_trigger.np_d_sig, \n",
    "                                                          i_direction=0, \n",
    "                                                          d_threshold=d_thresh_est, \n",
    "                                                          d_hysteresis=0.2, b_verbose=False)\n",
    "    np_d_eventtimes\n",
    "    \n",
    "    # Visualize the eventtimes\n",
    "    hp = cl_sig_no_trigger.plt_eventtimes()\n",
    "    \n",
    "    # Calculated the desired timebase_scale\n",
    "    print(\"d_timebase_scale (prior to adjustment): \" '%0.3f' % d_timebase_scale)\n",
    "    d_timebase_scale = (6./12.)*(np.mean(np.diff(np_d_eventtimes)))\n",
    "    print(\"d_timebase_scale (after adjustment): \" '%0.3f' % d_timebase_scale)\n",
    "    \n",
    "    # Check for clipping and correct scaling. The scope has 8 vertical division so the \n",
    "    # total voltage range on the screen is 8 * d_ch1_scale \n",
    "    d_pkpk = np.max(lst_d_ch[0]) - np.min(lst_d_ch[0])\n",
    "    print(\"d_pkpk: \" + \"%0.4f\" % d_pkpk)\n",
    "    d_volts_scale = (8*d_ch1_scale)\n",
    "    print(\"d_volts_scale: \" + \"%0.4f\" % d_volts_scale)\n",
    "    if ( d_pkpk > d_volts_scale ):\n",
    "        print(\"Voltage scale increased\")\n",
    "        d_ch1_scale = d_ch1_scale*2.\n",
    "        print('d_ch1_scale: ' + '%0.4f' % d_ch1_scale)\n",
    "        \n",
    "    # Could be the vertical scale is too small, check for that\n",
    "    if ( abs( d_volts_scale/d_pkpk > 2. )):\n",
    "        print(\"Voltage scale decreased\")\n",
    "        d_ch1_scale = d_ch1_scale/2.\n",
    "        print('d_ch1_scale: ' + '%0.4f' % d_ch1_scale)\n",
    "    \n",
    "    # The scope trigger setting scales with the overall amplitude since the\n",
    "    # shape of the response is similar\n",
    "    d_trigger_level_est = 0.2 * (d_ch1_scale/0.5)\n",
    "    \n",
    "    # Reset the scope with the adjusted features, set to trigger on single sample\n",
    "    lst_ch_scale[0] = d_ch1_scale\n",
    "    d_ch1_scale = scope_ix.b_setup_scope(scope, lst_ch_scale=lst_ch_scale, lst_ch_active = lst_ch_active,\n",
    "          timebase_scale=d_timebase_scale, d_trigger_level = 1e-01, b_single = True)    \n",
    "    \n",
    "    # Acquire the sample\n",
    "    lst_d_ch = scope_ix.d_get_data(scope_con=scope, lst_ch_active = lst_ch_active, \n",
    "                timebase_scale=d_timebase_scale)\n",
    "    \n",
    "    # Reset back to free-run\n",
    "    scope_ix.b_setup_scope(scope_con=scope, lst_ch_scale=lst_ch_scale, lst_ch_active=lst_ch_active,\n",
    "              timebase_scale=d_timebase_scale, d_trigger_level=d_trigger_level_in, b_single = False)\n",
    "\n",
    "    # Instatiate the class, send the waveform samples and scales\n",
    "    d_t_del = scope_ix.d_get_delta_time(d_timebase_scale, len(lst_d_ch[0]))\n",
    "    cl_sig_no_trigger = ClSigFeatures(lst_d_ch[0], 1./d_t_del)\n",
    "    cl_sig_no_trigger.idx_add_sig(lst_d_ch[1], cl_sig_no_trigger.d_fs(idx=0))\n",
    "\n",
    "    # Visualize the data\n",
    "    hp = cl_sig_no_trigger.plt_sigs()\n",
    "        \n",
    "    # Save it off to a file    \n",
    "    b_file_save = cl_sig_no_trigger.b_save_data(str_data_prefix = str_data_prefix, idx_file = idx_data_file)\n",
    "        \n",
    "    # Wait for the next speed adjustment and continue\n",
    "    idx_data_file += 1\n",
    "    time.sleep(2)\n",
    "    input(\"Press Enter to continue...\")"
   ]
  },
  {
   "cell_type": "code",
   "execution_count": null,
   "metadata": {},
   "outputs": [],
   "source": []
  }
 ],
 "metadata": {
  "kernelspec": {
   "display_name": "Python 3 (ipykernel)",
   "language": "python",
   "name": "python3"
  },
  "language_info": {
   "codemirror_mode": {
    "name": "ipython",
    "version": 3
   },
   "file_extension": ".py",
   "mimetype": "text/x-python",
   "name": "python",
   "nbconvert_exporter": "python",
   "pygments_lexer": "ipython3",
   "version": "3.8.11"
  }
 },
 "nbformat": 4,
 "nbformat_minor": 4
}
