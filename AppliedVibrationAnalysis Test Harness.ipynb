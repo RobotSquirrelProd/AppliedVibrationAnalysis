{
 "cells": [
  {
   "cell_type": "markdown",
   "metadata": {},
   "source": [
    "# Test harness for applied vibration class"
   ]
  },
  {
   "cell_type": "markdown",
   "metadata": {},
   "source": [
    "### Import the libraries"
   ]
  },
  {
   "cell_type": "code",
   "execution_count": 1,
   "metadata": {},
   "outputs": [],
   "source": [
    "import numpy as np\n",
    "import math\n",
    "import pandas as pd"
   ]
  },
  {
   "cell_type": "markdown",
   "metadata": {},
   "source": [
    "### Import the signal processing library"
   ]
  },
  {
   "cell_type": "code",
   "execution_count": 2,
   "metadata": {},
   "outputs": [],
   "source": [
    "from appvib import ClSigFeatures"
   ]
  },
  {
   "cell_type": "markdown",
   "metadata": {},
   "source": [
    "#### Verify help and class structure"
   ]
  },
  {
   "cell_type": "code",
   "execution_count": 3,
   "metadata": {},
   "outputs": [
    {
     "name": "stdout",
     "output_type": "stream",
     "text": [
      "Help on class ClSigFeatures in module appvib:\n",
      "\n",
      "class ClSigFeatures(ClSigReal, ClSigComp)\n",
      " |  ClSigFeatures(np_d_ch1, timebase_scale)\n",
      " |  \n",
      " |  Class to manage signal features on scope data and other signals\n",
      " |  \n",
      " |  Example usage:\n",
      " |      cl_test = cl_sig_features(np.array([1.,2., 3.]),1.1)\n",
      " |  \n",
      " |  Should produce:\n",
      " |  \n",
      " |      print('np_d_ch1: '+ np.array2string(cl_test.np_d_ch1))\n",
      " |      print('timebase_scale: ' + '%0.3f' % cl_test.timebase_scale)\n",
      " |      print('i_ns: ' + '%3.f' % cl_test.i_ns)\n",
      " |      print('d_t_del: ' + '%0.3f' % cl_test.d_t_del)\n",
      " |      print('d_time' + np.array2string(cl_test.d_time))\n",
      " |  \n",
      " |      np_d_ch1: [1. 2. 3.]\n",
      " |      timebase_scale: 1.000\n",
      " |      i_ns:   3\n",
      " |      d_t_del: 4.000\n",
      " |      d_time[0. 4. 8.]\n",
      " |  \n",
      " |  Method resolution order:\n",
      " |      ClSigFeatures\n",
      " |      ClSigReal\n",
      " |      ClSigComp\n",
      " |      ClSig\n",
      " |      builtins.object\n",
      " |  \n",
      " |  Methods defined here:\n",
      " |  \n",
      " |  __init__(self, np_d_ch1, timebase_scale)\n",
      " |      Initialize self.  See help(type(self)) for accurate signature.\n",
      " |  \n",
      " |  b_save_data(self, str_data_prefix='testclass', idx_data=1)\n",
      " |      Save the data in the object to a .csv file\n",
      " |      \n",
      " |      Keyword arguments:\n",
      " |      str_data_prefix -- String with file prefix (defaults to 'testclass')\n",
      " |      idx_data -- File index (defaults to 1)\n",
      " |      \n",
      " |      Return values:\n",
      " |      True if write succeeds\n",
      " |  \n",
      " |  d_est_rpm(self, d_events_per_rev=1)\n",
      " |      Estimate the RPM from the signal using eventtimes which must have\n",
      " |      calculated from a previous call to the method np_d_est_triggers.\n",
      " |  \n",
      " |  d_fft_real(self)\n",
      " |      Calculate the half spectrum since this is a real-valued signal\n",
      " |  \n",
      " |  np_d_est_triggers(self, i_direction=0, d_thresh=0, d_hyst=0.1, i_kernel=5, b_verbose=False)\n",
      " |      This method estimates speed by identifying trigger points in time,\n",
      " |      a given threshold and hysteresis. When the signal level crosses\n",
      " |      the threshold, the trigger holds off. The trigger holds off\n",
      " |      until the signal crosses the hysteresis level. Hysteresis is\n",
      " |      defined relative to the threshold voltage.\n",
      " |      \n",
      " |      The trigger times can be used to estimate the rotating speed.\n",
      " |      \n",
      " |      Keyword arguments:\n",
      " |      i_direction -- 0 to search for threshold on rising signal, 1 to search\n",
      " |                      on a falling signal.\n",
      " |      d_thresh  -- Threshold value (default: 0.0 volts for zero crossings)\n",
      " |      d_hyst -- Hysteresis value (default: 0.1 volts)\n",
      " |      i_kernel -- Number of samples to consider in estimating slope,\n",
      " |                      must be an odd number (default: 5)\n",
      " |      b_verbose -- Print the intermediate steps (default: False). Useful\n",
      " |                      for stepping through the method to troubleshoot or\n",
      " |                      understand it better.\n",
      " |      \n",
      " |      Return values:\n",
      " |      np_d_eventtimes -- numpy array with list of trigger event times\n",
      " |  \n",
      " |  plt_eventtimes(self)\n",
      " |      Plot event data in time.\n",
      " |      \n",
      " |      Return values:\n",
      " |      list: [handle to the plot, np array of eventtimes]\n",
      " |  \n",
      " |  plt_rpm(self)\n",
      " |      Plot rpm data in time.\n",
      " |      \n",
      " |      Return values:\n",
      " |      list: [handle to the plot, np array of RPM values]\n",
      " |  \n",
      " |  plt_sigs(self)\n",
      " |      Plot out the data in this signal feature class in the time domain\n",
      " |      \n",
      " |      Return values:\n",
      " |      handle to the plot\n",
      " |  \n",
      " |  plt_spec(self)\n",
      " |      Plot data in frequency domain. This method assumes a real signal\n",
      " |      \n",
      " |      Return values:\n",
      " |      handle to the plot\n",
      " |  \n",
      " |  ----------------------------------------------------------------------\n",
      " |  Readonly properties defined here:\n",
      " |  \n",
      " |  d_events_per_rev\n",
      " |      Events per revolution\n",
      " |  \n",
      " |  d_fs\n",
      " |      Sampling frequeny in hertz\n",
      " |  \n",
      " |  d_t_del\n",
      " |      Delta time between each sample\n",
      " |  \n",
      " |  d_thresh\n",
      " |      Trigger threshold value\n",
      " |  \n",
      " |  d_time\n",
      " |      Numpy array with time values, in seconds\n",
      " |  \n",
      " |  np_d_ch1_filt\n",
      " |      Return the signal, filtered with Savitsky-Golay\n",
      " |  \n",
      " |  np_d_ch1_filt1\n",
      " |      Return the signal, filtered with butter FIR filter\n",
      " |  \n",
      " |  np_d_eventtimes\n",
      " |      Numpy array of trigger event times\n",
      " |  \n",
      " |  np_d_rpm\n",
      " |      Estimated RPM values\n",
      " |  \n",
      " |  str_file\n",
      " |      Output (.csv) file name\n",
      " |  \n",
      " |  str_filt1_desc\n",
      " |      Complete Filt1 description of the Butterworth filter design\n",
      " |  \n",
      " |  str_filt1_desc_short\n",
      " |      Short Filt1 description, useful for plot legend labels\n",
      " |  \n",
      " |  str_filt_desc\n",
      " |      Complete Filt description of the Savitsky-Golay filter design\n",
      " |  \n",
      " |  str_filt_desc_short\n",
      " |      Short Filt description, useful for plot legend labels\n",
      " |  \n",
      " |  ----------------------------------------------------------------------\n",
      " |  Data descriptors defined here:\n",
      " |  \n",
      " |  b_spec_peak\n",
      " |      Boolean set to true to label peak in spectrum\n",
      " |  \n",
      " |  np_d_ch1\n",
      " |      Numpy array containing the scope data\n",
      " |  \n",
      " |  np_d_ch2\n",
      " |      Nump array of values for channel 2\n",
      " |  \n",
      " |  np_d_ch3\n",
      " |      Nump array of values for channel 3\n",
      " |  \n",
      " |  np_d_ch4\n",
      " |      Nump array of values for channel 4\n",
      " |  \n",
      " |  str_eu\n",
      " |      Engineering unit descriptor\n",
      " |  \n",
      " |  str_plot_desc\n",
      " |      Plot description\n",
      " |  \n",
      " |  timebase_scale\n",
      " |      Scope time scale\n",
      " |  \n",
      " |  ylim_tb\n",
      " |      Real-valued Timebase vertical limits\n",
      " |  \n",
      " |  ----------------------------------------------------------------------\n",
      " |  Methods inherited from ClSigReal:\n",
      " |  \n",
      " |  set_ylim_tb(self, ylim_tb)\n",
      " |      Setter for the real-valued y limits\n",
      " |  \n",
      " |  ----------------------------------------------------------------------\n",
      " |  Readonly properties inherited from ClSigReal:\n",
      " |  \n",
      " |  np_sig\n",
      " |      Numpy array containing the signal\n",
      " |  \n",
      " |  ----------------------------------------------------------------------\n",
      " |  Readonly properties inherited from ClSig:\n",
      " |  \n",
      " |  i_ns\n",
      " |      Number of samples in the scope data\n",
      " |  \n",
      " |  ----------------------------------------------------------------------\n",
      " |  Data descriptors inherited from ClSig:\n",
      " |  \n",
      " |  __dict__\n",
      " |      dictionary for instance variables (if defined)\n",
      " |  \n",
      " |  __weakref__\n",
      " |      list of weak references to the object (if defined)\n",
      " |  \n",
      " |  b_complex\n",
      " |      Boolean set to true if signal is complex valued\n",
      "\n"
     ]
    }
   ],
   "source": [
    "help(ClSigFeatures)"
   ]
  },
  {
   "cell_type": "markdown",
   "metadata": {},
   "source": [
    "### Define plot mode. \n",
    "Interactive mode is helpful for visuallizing the program execution"
   ]
  },
  {
   "cell_type": "code",
   "execution_count": 4,
   "metadata": {},
   "outputs": [],
   "source": [
    "#%matplotlib widget"
   ]
  },
  {
   "cell_type": "markdown",
   "metadata": {},
   "source": [
    "### Test for minimal construction"
   ]
  },
  {
   "cell_type": "code",
   "execution_count": 5,
   "metadata": {},
   "outputs": [],
   "source": [
    "ClSigTestMin = ClSigFeatures(np.array([1.,2., 3.]),1.1)"
   ]
  },
  {
   "cell_type": "code",
   "execution_count": 6,
   "metadata": {
    "scrolled": true
   },
   "outputs": [
    {
     "ename": "AttributeError",
     "evalue": "'ClSigFeatures' object has no attribute '_ClSig__np_sig'",
     "output_type": "error",
     "traceback": [
      "\u001b[1;31m---------------------------------------------------------------------------\u001b[0m",
      "\u001b[1;31mAttributeError\u001b[0m                            Traceback (most recent call last)",
      "\u001b[1;32m~\\AppData\\Local\\Temp/ipykernel_14904/711391959.py\u001b[0m in \u001b[0;36m<module>\u001b[1;34m\u001b[0m\n\u001b[1;32m----> 1\u001b[1;33m \u001b[0mlst_testmin\u001b[0m \u001b[1;33m=\u001b[0m \u001b[0mClSigTestMin\u001b[0m\u001b[1;33m.\u001b[0m\u001b[0mplt_sigs\u001b[0m\u001b[1;33m(\u001b[0m\u001b[1;33m)\u001b[0m\u001b[1;33m\u001b[0m\u001b[1;33m\u001b[0m\u001b[0m\n\u001b[0m",
      "\u001b[1;32mH:\\Documents\\Hobby\\IssaquahDynamical\\RobotSquirrelRepo\\AppliedVibrationAnalysis\\appvib.py\u001b[0m in \u001b[0;36mplt_sigs\u001b[1;34m(self)\u001b[0m\n\u001b[0;32m    405\u001b[0m         \u001b[1;32melse\u001b[0m\u001b[1;33m:\u001b[0m\u001b[1;33m\u001b[0m\u001b[1;33m\u001b[0m\u001b[0m\n\u001b[0;32m    406\u001b[0m             \u001b[0max1\u001b[0m \u001b[1;33m=\u001b[0m \u001b[0maxs\u001b[0m\u001b[1;33m\u001b[0m\u001b[1;33m\u001b[0m\u001b[0m\n\u001b[1;32m--> 407\u001b[1;33m         \u001b[0max1\u001b[0m\u001b[1;33m.\u001b[0m\u001b[0mplot\u001b[0m\u001b[1;33m(\u001b[0m\u001b[0mself\u001b[0m\u001b[1;33m.\u001b[0m\u001b[0md_time\u001b[0m\u001b[1;33m,\u001b[0m \u001b[0mself\u001b[0m\u001b[1;33m.\u001b[0m\u001b[0mnp_d_ch1\u001b[0m\u001b[1;33m)\u001b[0m\u001b[1;33m\u001b[0m\u001b[1;33m\u001b[0m\u001b[0m\n\u001b[0m\u001b[0;32m    408\u001b[0m         \u001b[0max1\u001b[0m\u001b[1;33m.\u001b[0m\u001b[0mplot\u001b[0m\u001b[1;33m(\u001b[0m\u001b[0mself\u001b[0m\u001b[1;33m.\u001b[0m\u001b[0md_time\u001b[0m\u001b[1;33m,\u001b[0m \u001b[0mself\u001b[0m\u001b[1;33m.\u001b[0m\u001b[0mnp_d_ch1_filt\u001b[0m\u001b[1;33m)\u001b[0m\u001b[1;33m\u001b[0m\u001b[1;33m\u001b[0m\u001b[0m\n\u001b[0;32m    409\u001b[0m         \u001b[0max1\u001b[0m\u001b[1;33m.\u001b[0m\u001b[0mplot\u001b[0m\u001b[1;33m(\u001b[0m\u001b[0mself\u001b[0m\u001b[1;33m.\u001b[0m\u001b[0md_time\u001b[0m\u001b[1;33m,\u001b[0m \u001b[0mself\u001b[0m\u001b[1;33m.\u001b[0m\u001b[0mnp_d_ch1_filt1\u001b[0m\u001b[1;33m)\u001b[0m\u001b[1;33m\u001b[0m\u001b[1;33m\u001b[0m\u001b[0m\n",
      "\u001b[1;32mH:\\Documents\\Hobby\\IssaquahDynamical\\RobotSquirrelRepo\\AppliedVibrationAnalysis\\appvib.py\u001b[0m in \u001b[0;36md_time\u001b[1;34m(self)\u001b[0m\n\u001b[0;32m    192\u001b[0m     \u001b[1;32mdef\u001b[0m \u001b[0md_time\u001b[0m\u001b[1;33m(\u001b[0m\u001b[0mself\u001b[0m\u001b[1;33m)\u001b[0m\u001b[1;33m:\u001b[0m\u001b[1;33m\u001b[0m\u001b[1;33m\u001b[0m\u001b[0m\n\u001b[0;32m    193\u001b[0m         \u001b[1;34m\"\"\"Numpy array with time values, in seconds\"\"\"\u001b[0m\u001b[1;33m\u001b[0m\u001b[1;33m\u001b[0m\u001b[0m\n\u001b[1;32m--> 194\u001b[1;33m         \u001b[0mself\u001b[0m\u001b[1;33m.\u001b[0m\u001b[0m__d_time\u001b[0m \u001b[1;33m=\u001b[0m \u001b[0mnp\u001b[0m\u001b[1;33m.\u001b[0m\u001b[0mlinspace\u001b[0m\u001b[1;33m(\u001b[0m\u001b[1;36m0\u001b[0m\u001b[1;33m,\u001b[0m \u001b[1;33m(\u001b[0m\u001b[0mself\u001b[0m\u001b[1;33m.\u001b[0m\u001b[0mi_ns\u001b[0m\u001b[1;33m-\u001b[0m\u001b[1;36m1\u001b[0m\u001b[1;33m)\u001b[0m\u001b[1;33m,\u001b[0m \u001b[0mself\u001b[0m\u001b[1;33m.\u001b[0m\u001b[0mi_ns\u001b[0m\u001b[1;33m)\u001b[0m\u001b[1;33m*\u001b[0m\u001b[0mself\u001b[0m\u001b[1;33m.\u001b[0m\u001b[0md_t_del\u001b[0m\u001b[1;33m\u001b[0m\u001b[1;33m\u001b[0m\u001b[0m\n\u001b[0m\u001b[0;32m    195\u001b[0m         \u001b[1;32mreturn\u001b[0m \u001b[0mself\u001b[0m\u001b[1;33m.\u001b[0m\u001b[0m__d_time\u001b[0m\u001b[1;33m\u001b[0m\u001b[1;33m\u001b[0m\u001b[0m\n\u001b[0;32m    196\u001b[0m \u001b[1;33m\u001b[0m\u001b[0m\n",
      "\u001b[1;32mH:\\Documents\\Hobby\\IssaquahDynamical\\RobotSquirrelRepo\\AppliedVibrationAnalysis\\appvib.py\u001b[0m in \u001b[0;36mi_ns\u001b[1;34m(self)\u001b[0m\n\u001b[0;32m     34\u001b[0m     \u001b[1;32mdef\u001b[0m \u001b[0mi_ns\u001b[0m\u001b[1;33m(\u001b[0m\u001b[0mself\u001b[0m\u001b[1;33m)\u001b[0m\u001b[1;33m:\u001b[0m\u001b[1;33m\u001b[0m\u001b[1;33m\u001b[0m\u001b[0m\n\u001b[0;32m     35\u001b[0m         \u001b[1;34m\"\"\"Number of samples in the scope data\"\"\"\u001b[0m\u001b[1;33m\u001b[0m\u001b[1;33m\u001b[0m\u001b[0m\n\u001b[1;32m---> 36\u001b[1;33m         \u001b[0mself\u001b[0m\u001b[1;33m.\u001b[0m\u001b[0m__get_num_samples\u001b[0m\u001b[1;33m(\u001b[0m\u001b[1;33m)\u001b[0m\u001b[1;33m\u001b[0m\u001b[1;33m\u001b[0m\u001b[0m\n\u001b[0m\u001b[0;32m     37\u001b[0m         \u001b[1;32mreturn\u001b[0m \u001b[0mself\u001b[0m\u001b[1;33m.\u001b[0m\u001b[0m__i_ns\u001b[0m\u001b[1;33m\u001b[0m\u001b[1;33m\u001b[0m\u001b[0m\n\u001b[0;32m     38\u001b[0m \u001b[1;33m\u001b[0m\u001b[0m\n",
      "\u001b[1;32mH:\\Documents\\Hobby\\IssaquahDynamical\\RobotSquirrelRepo\\AppliedVibrationAnalysis\\appvib.py\u001b[0m in \u001b[0;36m__get_num_samples\u001b[1;34m(self)\u001b[0m\n\u001b[0;32m     19\u001b[0m     \u001b[1;32mdef\u001b[0m \u001b[0m__get_num_samples\u001b[0m\u001b[1;33m(\u001b[0m\u001b[0mself\u001b[0m\u001b[1;33m)\u001b[0m\u001b[1;33m:\u001b[0m\u001b[1;33m\u001b[0m\u001b[1;33m\u001b[0m\u001b[0m\n\u001b[0;32m     20\u001b[0m         \u001b[1;34m\"\"\"Calculate number of samples in the signal\"\"\"\u001b[0m\u001b[1;33m\u001b[0m\u001b[1;33m\u001b[0m\u001b[0m\n\u001b[1;32m---> 21\u001b[1;33m         \u001b[0mself\u001b[0m\u001b[1;33m.\u001b[0m\u001b[0m__i_ns\u001b[0m \u001b[1;33m=\u001b[0m \u001b[0mlen\u001b[0m\u001b[1;33m(\u001b[0m\u001b[0mself\u001b[0m\u001b[1;33m.\u001b[0m\u001b[0m__np_sig\u001b[0m\u001b[1;33m)\u001b[0m\u001b[1;33m\u001b[0m\u001b[1;33m\u001b[0m\u001b[0m\n\u001b[0m\u001b[0;32m     22\u001b[0m \u001b[1;33m\u001b[0m\u001b[0m\n\u001b[0;32m     23\u001b[0m     \u001b[1;33m@\u001b[0m\u001b[0mproperty\u001b[0m\u001b[1;33m\u001b[0m\u001b[1;33m\u001b[0m\u001b[0m\n",
      "\u001b[1;31mAttributeError\u001b[0m: 'ClSigFeatures' object has no attribute '_ClSig__np_sig'"
     ]
    },
    {
     "data": {
      "image/png": "[encoded data removed]",
      "text/plain": [
       "<Figure size 432x288 with 1 Axes>"
      ]
     },
     "metadata": {
      "needs_background": "light"
     },
     "output_type": "display_data"
    }
   ],
   "source": [
    "lst_testmin = ClSigTestMin.plt_sigs()"
   ]
  },
  {
   "cell_type": "markdown",
   "metadata": {},
   "source": [
    "### Test - Even number of samples"
   ]
  },
  {
   "cell_type": "markdown",
   "metadata": {},
   "source": [
    "In this test a simple sin wave is created and passed into the signal feature object for processing"
   ]
  },
  {
   "cell_type": "code",
   "execution_count": null,
   "metadata": {},
   "outputs": [],
   "source": [
    "d_fs = 2048\n",
    "i_ns = (d_fs*2)\n",
    "d_freq_sig = 20./(float(i_ns)/d_fs)\n",
    "print('Signal frequency, hertz: ' + '%0.10f' % d_freq_sig)\n",
    "d_timebase_scale = float(i_ns)/(d_fs*12.)\n",
    "d_time_ext = np.linspace(0,(i_ns-1),i_ns)/float(i_ns)\n",
    "np_d_test = np.sin(2 * math.pi * d_freq_sig * d_time_ext )\n",
    "ClSigEven = ClSigFeatures(np_d_test, d_timebase_scale)"
   ]
  },
  {
   "cell_type": "markdown",
   "metadata": {},
   "source": [
    "#### Test plot"
   ]
  },
  {
   "cell_type": "code",
   "execution_count": null,
   "metadata": {},
   "outputs": [],
   "source": [
    "lst_sig_even = ClSigEven.plt_sigs()"
   ]
  },
  {
   "cell_type": "code",
   "execution_count": null,
   "metadata": {},
   "outputs": [],
   "source": [
    "lst_spec_even = ClSigEven.plt_spec()"
   ]
  },
  {
   "cell_type": "markdown",
   "metadata": {},
   "source": [
    "Extract the maximum value (assumed to be our component at 10 hertz) and check that the amplitude is very close to 1."
   ]
  },
  {
   "cell_type": "code",
   "execution_count": null,
   "metadata": {},
   "outputs": [],
   "source": [
    "d_test_point = np.max(np.abs(lst_spec_even[2]))\n",
    "print('Maximum spectral value: ' + '%0.10f' % d_test_point)\n",
    "assert abs(d_test_point - 1.) < 1e-12, 'Failed to find even component amplitude'"
   ]
  },
  {
   "cell_type": "markdown",
   "metadata": {},
   "source": [
    "### Test - Odd number of samples"
   ]
  },
  {
   "cell_type": "markdown",
   "metadata": {},
   "source": [
    "In this test a simple sin wave with an odd number of samples is created and passed into the signal feature object for processing. This is primarily to test the rfft scaling."
   ]
  },
  {
   "cell_type": "code",
   "execution_count": null,
   "metadata": {},
   "outputs": [],
   "source": [
    "d_fs = 2047\n",
    "i_ns = (d_fs*3)\n",
    "d_freq_sig = 30./(float(i_ns)/d_fs)\n",
    "print('Signal frequency, hertz: ' + '%0.6f' % d_freq_sig)\n",
    "d_timebase_scale = float(i_ns)/(d_fs*12.)\n",
    "d_time_ext = np.linspace(0,(i_ns-1),i_ns)/float(i_ns)\n",
    "np_d_test = np.sin(2 * math.pi * d_freq_sig * d_time_ext )\n",
    "ClSigOdd = ClSigFeatures(np_d_test, d_timebase_scale)"
   ]
  },
  {
   "cell_type": "markdown",
   "metadata": {},
   "source": [
    "#### Test plot"
   ]
  },
  {
   "cell_type": "code",
   "execution_count": null,
   "metadata": {},
   "outputs": [],
   "source": [
    "lst_plot_odd = ClSigOdd.plt_sigs()"
   ]
  },
  {
   "cell_type": "code",
   "execution_count": null,
   "metadata": {},
   "outputs": [],
   "source": [
    "lst_spec_odd = ClSigOdd.plt_spec()"
   ]
  },
  {
   "cell_type": "code",
   "execution_count": null,
   "metadata": {},
   "outputs": [],
   "source": [
    "d_test_point = np.max(np.abs(lst_spec_odd[2]))\n",
    "print('Maximum spectral value: ' + '%0.6f' % d_test_point)\n",
    "assert abs(d_test_point - 1.) < 1e-3, 'Failed to find odd component amplitude'"
   ]
  },
  {
   "cell_type": "markdown",
   "metadata": {},
   "source": [
    "### Test for engineering units"
   ]
  },
  {
   "cell_type": "code",
   "execution_count": null,
   "metadata": {},
   "outputs": [],
   "source": [
    "ClSigTestMin.str_eu = \"g's\""
   ]
  },
  {
   "cell_type": "code",
   "execution_count": null,
   "metadata": {},
   "outputs": [],
   "source": [
    "lst_sigs_eu = ClSigTestMin.plt_sigs()"
   ]
  },
  {
   "cell_type": "code",
   "execution_count": null,
   "metadata": {},
   "outputs": [],
   "source": [
    "lst_sigs_eu.set_size_inches(4*1.6, 4)\n",
    "lst_sigs_eu.savefig('Test_Timebase_EU.pdf')"
   ]
  },
  {
   "cell_type": "code",
   "execution_count": null,
   "metadata": {},
   "outputs": [],
   "source": [
    "lst_spec_eu = ClSigTestMin.plt_spec()"
   ]
  },
  {
   "cell_type": "markdown",
   "metadata": {},
   "source": [
    "### Test plot annotations"
   ]
  },
  {
   "cell_type": "code",
   "execution_count": null,
   "metadata": {},
   "outputs": [],
   "source": [
    "ClSigTestMin.str_plot_desc = 'My Great Plot'\n",
    "lst_sigs_title = ClSigTestMin.plt_sigs()"
   ]
  },
  {
   "cell_type": "code",
   "execution_count": null,
   "metadata": {},
   "outputs": [],
   "source": [
    "lst_spec_title = ClSigTestMin.plt_spec()"
   ]
  },
  {
   "cell_type": "code",
   "execution_count": null,
   "metadata": {},
   "outputs": [],
   "source": [
    "ClSigTestMin.ylim_tb = [-2., 2.]\n",
    "lst_sigs_ylim_tb = ClSigTestMin.plt_sigs()"
   ]
  },
  {
   "cell_type": "markdown",
   "metadata": {},
   "source": [
    "#### Labelling for the minimum instatiation case"
   ]
  },
  {
   "cell_type": "code",
   "execution_count": null,
   "metadata": {},
   "outputs": [],
   "source": [
    "ClSigTestMin.b_spec_peak = True\n",
    "lst_spec_peak_tb = ClSigTestMin.plt_spec()"
   ]
  },
  {
   "cell_type": "markdown",
   "metadata": {},
   "source": [
    "#### Labelling for the even number of sample cases"
   ]
  },
  {
   "cell_type": "code",
   "execution_count": null,
   "metadata": {},
   "outputs": [],
   "source": [
    "ClSigEven.b_spec_peak = True\n",
    "lst_spec_peak_tb = ClSigEven.plt_spec()"
   ]
  },
  {
   "cell_type": "markdown",
   "metadata": {},
   "source": [
    "#### Labelling for the odd number of sample cases"
   ]
  },
  {
   "cell_type": "code",
   "execution_count": null,
   "metadata": {},
   "outputs": [],
   "source": [
    "ClSigOdd.b_spec_peak = True\n",
    "lst_spec_peak_tb = ClSigOdd.plt_spec()"
   ]
  },
  {
   "cell_type": "markdown",
   "metadata": {},
   "source": [
    "### Test for minimal construction, multiple channels"
   ]
  },
  {
   "cell_type": "code",
   "execution_count": null,
   "metadata": {},
   "outputs": [],
   "source": [
    "ClSigMultCh = ClSigFeatures(np.array([1.,2., 3.]),1.1)\n",
    "np_ch2 = np.array([3., 2.5, 2.])\n",
    "ClSigMultCh.np_d_ch2 = np.array(np_ch2)"
   ]
  },
  {
   "cell_type": "code",
   "execution_count": null,
   "metadata": {
    "scrolled": true
   },
   "outputs": [],
   "source": [
    "lst_testmin = ClSigMultCh.plt_sigs()"
   ]
  },
  {
   "cell_type": "code",
   "execution_count": null,
   "metadata": {},
   "outputs": [],
   "source": [
    "ClSigMultCh.b_save_data()"
   ]
  },
  {
   "cell_type": "markdown",
   "metadata": {},
   "source": [
    "Read the file back in and compare to the input data"
   ]
  },
  {
   "cell_type": "code",
   "execution_count": null,
   "metadata": {},
   "outputs": [],
   "source": [
    "import csv"
   ]
  },
  {
   "cell_type": "code",
   "execution_count": null,
   "metadata": {},
   "outputs": [],
   "source": [
    "str_filename = ClSigMultCh.str_file\n",
    "print(str_filename)\n",
    "file_handle = open(str_filename)\n",
    "csvreader = csv.reader(file_handle)\n",
    "csv_header = []\n",
    "csv_header = next(csvreader)\n",
    "print(csv_header)"
   ]
  },
  {
   "cell_type": "code",
   "execution_count": null,
   "metadata": {},
   "outputs": [],
   "source": [
    "df_test = pd.read_csv(str_filename, header=None, skiprows=2, names=csv_header[0:5] )\n",
    "df_test"
   ]
  },
  {
   "cell_type": "code",
   "execution_count": null,
   "metadata": {},
   "outputs": [],
   "source": [
    "assert abs(df_test.CH2[2] - np_ch2[2]) < 1e-15, 'Failed to save second data series' \n",
    "assert abs(df_test.CH2[1] - np_ch2[1]) < 1e-15, 'Failed to save second data series' "
   ]
  }
 ],
 "metadata": {
  "kernelspec": {
   "display_name": "Python 3 (ipykernel)",
   "language": "python",
   "name": "python3"
  },
  "language_info": {
   "codemirror_mode": {
    "name": "ipython",
    "version": 3
   },
   "file_extension": ".py",
   "mimetype": "text/x-python",
   "name": "python",
   "nbconvert_exporter": "python",
   "pygments_lexer": "ipython3",
   "version": "3.8.11"
  }
 },
 "nbformat": 4,
 "nbformat_minor": 4
}
