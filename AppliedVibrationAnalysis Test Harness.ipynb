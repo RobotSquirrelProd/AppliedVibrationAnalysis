{
 "cells": [
  {
   "cell_type": "markdown",
   "metadata": {},
   "source": [
    "# Test harness for applied vibration class"
   ]
  },
  {
   "cell_type": "markdown",
   "metadata": {},
   "source": [
    "### Import the libraries"
   ]
  },
  {
   "cell_type": "code",
   "execution_count": 1,
   "metadata": {},
   "outputs": [],
   "source": [
    "import matplotlib.pyplot as plt\n",
    "plt.rcParams['figure.dpi'] = 300\n",
    "import numpy as np\n",
    "import math\n",
    "import pandas as pd"
   ]
  },
  {
   "cell_type": "markdown",
   "metadata": {},
   "source": [
    "### Import the signal processing library"
   ]
  },
  {
   "cell_type": "code",
   "execution_count": 2,
   "metadata": {},
   "outputs": [],
   "source": [
    "from appvib import ClSigFeatures"
   ]
  },
  {
   "cell_type": "markdown",
   "metadata": {},
   "source": [
    "#### Verify help and class structure"
   ]
  },
  {
   "cell_type": "code",
   "execution_count": 3,
   "metadata": {},
   "outputs": [
    {
     "name": "stdout",
     "output_type": "stream",
     "text": [
      "Help on class ClSigFeatures in module appvib:\n",
      "\n",
      "class ClSigFeatures(ClassPlotSupport)\n",
      " |  ClSigFeatures(np_d_sig, d_fs, str_point_name='CH1', str_machine_name='Machine', dt_timestamp=datetime.datetime(1990, 1, 1, 0, 0, tzinfo=datetime.timezone.utc))\n",
      " |  \n",
      " |  Class to manage signal features on scope data and other signals\n",
      " |  \n",
      " |  Example usage:\n",
      " |      cl_test = ClSigFeatures(np.array([1.,2., 3.]),1.1)\n",
      " |  \n",
      " |  Should produce:\n",
      " |  \n",
      " |      print('np_d_sig: '+ np.array2string(cl_test.np_d_sig))\n",
      " |      print('timebase_scale: ' + '%0.3f' % cl_test.timebase_scale)\n",
      " |      print('i_ns: ' + '%3.f' % cl_test.i_ns)\n",
      " |      print('d_t_del: ' + '%0.3f' % cl_test.d_t_del)\n",
      " |      print('d_time' + np.array2string(cl_test.d_time))\n",
      " |  \n",
      " |      np_d_sig: [1. 2. 3.]\n",
      " |      i_ns:   3\n",
      " |  \n",
      " |      Attributes\n",
      " |      ----------\n",
      " |  \n",
      " |      Methods\n",
      " |      -------\n",
      " |  \n",
      " |  Method resolution order:\n",
      " |      ClSigFeatures\n",
      " |      ClassPlotSupport\n",
      " |      builtins.object\n",
      " |  \n",
      " |  Methods defined here:\n",
      " |  \n",
      " |  __init__(self, np_d_sig, d_fs, str_point_name='CH1', str_machine_name='Machine', dt_timestamp=datetime.datetime(1990, 1, 1, 0, 0, tzinfo=datetime.timezone.utc))\n",
      " |      Parameters\n",
      " |      ----------\n",
      " |      np_d_sig : numpy array\n",
      " |          Vector with the signal of interest. Can be real- or complex-valued.\n",
      " |      d_fs : double\n",
      " |          Describes the sampling frequency in samples/second (hertz).\n",
      " |      str_point_name : string\n",
      " |          Signal point name\n",
      " |      str_machine_name : string\n",
      " |          Machine train name\n",
      " |      dt_timestamp : datetime\n",
      " |          Signal timestamp in datetime stamp. This is the timestamp when the first sample was acquired.\n",
      " |          Defaults to 1-Jan-1970 UTC Timezone.\n",
      " |  \n",
      " |  b_read_data_as_df(self, str_filename=None)\n",
      " |      Read the entire file in as a pandas dataframe\n",
      " |      \n",
      " |      Parameters\n",
      " |      ----------\n",
      " |      str_filename : string\n",
      " |          Filename, including .csv extension,  to read. If None then filename stored\n",
      " |          in the class is used\n",
      " |      \n",
      " |      Returns\n",
      " |      --------\n",
      " |      lst_data : list\n",
      " |              pandas dataframe : dataframe with all data from the file\n",
      " |              numpy array, datetime : vector with date and timestamps\n",
      " |              numpy array, double : vector with signal sampling rates\n",
      " |              numpy array, double : vector with delta time interval for each signal\n",
      " |              list, string :  list with engineering units descriptions\n",
      " |              list, string : machine name\n",
      " |  \n",
      " |  b_save_data(self, str_data_prefix='test_class', idx_file=1)\n",
      " |      Save the data in the object to a .csv file\n",
      " |      \n",
      " |      Parameters\n",
      " |      ----------\n",
      " |      str_data_prefix : string\n",
      " |          String with file prefix (defaults to 'test_class')\n",
      " |      idx_file : integer\n",
      " |          File name index (defaults to 1)\n",
      " |      \n",
      " |      Return values:\n",
      " |      True if write succeeds\n",
      " |  \n",
      " |  calc_nx(self, np_d_sig, np_d_eventtimes, b_verbose=True, idx=0)\n",
      " |      This method calls the estimation method for each signal\n",
      " |      \n",
      " |      Parameters\n",
      " |      ----------\n",
      " |      np_d_sig : numpy array\n",
      " |          Signal to be evaluated for crossings\n",
      " |      np_d_eventtimes : numpy array\n",
      " |          Vector of trigger event times\n",
      " |      b_verbose : boolean\n",
      " |          Print the intermediate steps (default: False). Useful for stepping through the\n",
      " |          method to troubleshoot or understand it better.\n",
      " |      idx : integer\n",
      " |          Index of signal to pull description. Defaults to 0 (first signal)\n",
      " |      \n",
      " |      Returns\n",
      " |      -------\n",
      " |      numpy array : list of trigger event times\n",
      " |  \n",
      " |  d_fs(self, idx=0)\n",
      " |      Return the Sampling frequency in hertz\n",
      " |      \n",
      " |      Parameter\n",
      " |      ---------\n",
      " |      idx : integer\n",
      " |          Index of signal to pull description. Defaults to 0 (first signal)\n",
      " |  \n",
      " |  d_fs_update(self, d_fs_in, idx=0)\n",
      " |      Set the sampling frequency in hertz\n",
      " |      \n",
      " |      Parameters\n",
      " |      ---------\n",
      " |      d_fs_in : double\n",
      " |          Describes the sampling frequency in samples/second (hertz).\n",
      " |      \n",
      " |      idx : integer\n",
      " |          Index of signal to pull description. Defaults to 0 (first signal)\n",
      " |  \n",
      " |  d_t_del(self, idx=0)\n",
      " |      Delta time between each sample. This is allowed to vary across the signals\n",
      " |      \n",
      " |      Return\n",
      " |      ------\n",
      " |      double : Length of time between each sample\n",
      " |      \n",
      " |      Parameter\n",
      " |      ---------\n",
      " |      idx : integer\n",
      " |          Index of signal to pull description. Defaults to 0 (first signal)\n",
      " |  \n",
      " |  d_threshold(self, idx=0)\n",
      " |      Return the threshold level\n",
      " |      \n",
      " |      Parameter\n",
      " |      ---------\n",
      " |      idx : integer\n",
      " |          Index of signal to pull description. Defaults to 0 (first signal)\n",
      " |  \n",
      " |  d_threshold_update(self, d_threshold, idx=0)\n",
      " |      Set the threshold level\n",
      " |      \n",
      " |      Parameters\n",
      " |      ---------\n",
      " |      d_threshold : double\n",
      " |          Describes the trigger threshold level\n",
      " |      \n",
      " |      idx : integer\n",
      " |          Index of signal to pull description. Defaults to 0 (first signal)\n",
      " |  \n",
      " |  d_time_plot(self, idx=0)\n",
      " |      Method to access time series for trace identified by idx\n",
      " |      \n",
      " |      Parameters\n",
      " |      ----------\n",
      " |      idx: integer\n",
      " |         Index of signal to pull time series. Defaults to 0 (first signal)\n",
      " |      \n",
      " |      Returns\n",
      " |      -------\n",
      " |      numpy array, double : NumPy array of double values representing the time in seconds\n",
      " |  \n",
      " |  dt_timestamp(self, idx=0)\n",
      " |      Signal date and time\n",
      " |      \n",
      " |      Parameter\n",
      " |      ---------\n",
      " |      idx : integer\n",
      " |          Index of signal to pull description. Defaults to 0 (first signal)\n",
      " |  \n",
      " |  dt_timestamp_mark(self, idx=0)\n",
      " |      Feature measurement date and time in sparkline\n",
      " |      \n",
      " |      Parameter\n",
      " |      ---------\n",
      " |      idx : integer\n",
      " |          Index of signal to pull description. Defaults to 0 (first signal)\n",
      " |  \n",
      " |  dt_timestamp_mark_update(self, dt_timestamp_mark, idx=0)\n",
      " |      Set feature measurement date and time in sparklines\n",
      " |      \n",
      " |      Parameter\n",
      " |      ---------\n",
      " |      dt_timestamp_mark : datetime\n",
      " |          Timestamp of feature measurement in the sparklines. Defaults to 1-Jan-1970 UTC Timezone\n",
      " |      idx : integer\n",
      " |          Index of signal to pull description. Defaults to 0 (first signal)\n",
      " |  \n",
      " |  get_np_d_sig(self, idx=0)\n",
      " |      Numpy array containing arbitrary signal\n",
      " |  \n",
      " |  idx_add_sig(self, np_d_sig, d_fs, str_point_name, str_machine_name='Machine', dt_timestamp=datetime.datetime(1990, 1, 1, 0, 0, tzinfo=datetime.timezone.utc))\n",
      " |      Add another signal to this object.\n",
      " |      returns index to the newly added signal.\n",
      " |      \n",
      " |      Parameters\n",
      " |      ----------\n",
      " |      np_d_sig : numpy array, double\n",
      " |          Signal to be added\n",
      " |      d_fs : double\n",
      " |          Sampling frequency, hertz\n",
      " |      str_point_name : string\n",
      " |          Signal point name\n",
      " |      str_machine_name : string\n",
      " |          Machine train name\n",
      " |      dt_timestamp : datetime\n",
      " |          Signal timestamp in datetime stamp. This is the timestamp when the first sample was acquired.\n",
      " |          Defaults to 1-Jan-1970 UTC Timezone\n",
      " |  \n",
      " |  np_d_est_triggers(self, np_d_sig, i_direction=0, d_threshold=0.0, d_hysteresis=0.1, b_verbose=False, idx=0)\n",
      " |      This method estimates speed by identifying trigger points in time,\n",
      " |      a given threshold and hysteresis. When the signal level crosses\n",
      " |      the threshold, the trigger holds off. The trigger holds off\n",
      " |      until the signal crosses the hysteresis level. Hysteresis is\n",
      " |      defined relative to the threshold voltage.\n",
      " |      \n",
      " |      The trigger times are a first-order approximation of the instantaneous\n",
      " |      frequency. Most commonly used to estimate the rotating speed from\n",
      " |      magnetic pick-ups or eddy-current probes.\n",
      " |      \n",
      " |      Parameters\n",
      " |      ----------\n",
      " |      np_d_sig : numpy array\n",
      " |          Signal to be evaluated for crossings\n",
      " |      i_direction : integer\n",
      " |          0 to search for threshold on rising signal, 1 to search on a falling signal.\n",
      " |      d_threshold : double\n",
      " |          Threshold value (default: 0.0 volts for zero crossings)\n",
      " |      d_hysteresis : double\n",
      " |          Hysteresis value (default: 0.1 volts)\n",
      " |      b_verbose : boolean\n",
      " |          Print the intermediate steps (default: False). Useful for stepping through the\n",
      " |          method to troubleshoot or understand it better.\n",
      " |      idx : integer\n",
      " |          Index of signal to pull description. Defaults to 0 (first signal)\n",
      " |      \n",
      " |      Returns\n",
      " |      -------\n",
      " |      numpy array : list of trigger event times\n",
      " |  \n",
      " |  np_d_eventtimes(self, idx=0)\n",
      " |      Numpy array of trigger event times\n",
      " |      \n",
      " |      Parameter\n",
      " |      ---------\n",
      " |      idx : integer\n",
      " |          Index of signal to pull description. Defaults to 0 (first signal)\n",
      " |  \n",
      " |  np_d_rpm(self, idx=0)\n",
      " |      Numpy array of rpm values\n",
      " |      \n",
      " |      Parameter\n",
      " |      ---------\n",
      " |      idx : integer\n",
      " |          Index of signal to pull description. Defaults to 0 (first signal)\n",
      " |  \n",
      " |  np_sparklines(self, idx=0)\n",
      " |      Method to access sparkline array for trace identified by idx\n",
      " |      \n",
      " |      Parameters\n",
      " |      ----------\n",
      " |      idx: integer\n",
      " |         Index of signal to pull sparklines. Defaults to 0 (first signal)\n",
      " |      \n",
      " |      Returns\n",
      " |      -------\n",
      " |      numpy array, ClSigCompUneven : NumPy array of ClSigCompUneven objects used to create sparklines\n",
      " |  \n",
      " |  np_sparklines_update(self, np_sparklines, idx=0)\n",
      " |      Method to access sparkline array for trace identified by idx\n",
      " |      \n",
      " |      Parameters\n",
      " |      ----------\n",
      " |      np_sparklines : numpy array, ClSigCompUneven\n",
      " |          NumPy array of ClSigCompUneven objects used to create sparklines\n",
      " |      idx: integer\n",
      " |         Index of signal to set sparklines. Defaults to 0 (first signal)\n",
      " |      \n",
      " |      Returns\n",
      " |      -------\n",
      " |  \n",
      " |  plt_apht(self, str_plot_apht_desc=None, idx=0)\n",
      " |      Plot out amplitude and phase versus time (\"apht\") format\n",
      " |      \n",
      " |      Parameters\n",
      " |      ----------\n",
      " |      str_plot_apht_desc : string\n",
      " |          Description of data to be included in apht plot title\n",
      " |      idx : integer\n",
      " |          Index of signal to pull description. Defaults to 0 (first signal)\n",
      " |      \n",
      " |      Return values:\n",
      " |      handle to the plot\n",
      " |  \n",
      " |  plt_eventtimes(self, idx_eventtimes=0, idx_ch=0, b_verbose=False)\n",
      " |      Plot a signal and overlay event data in timebase format.\n",
      " |      \n",
      " |      Parameters\n",
      " |      ---------\n",
      " |      idx_eventtimes : integer\n",
      " |          Index of signal eventtimes. Defaults to 0 (first signal)\n",
      " |      idx_ch : integer\n",
      " |          Index of signal to be plotted. Defaults to 0 (first signal)\n",
      " |      b_verbose : boolean\n",
      " |          Print the intermediate steps (default: False). Useful for stepping through the\n",
      " |          method to troubleshoot or understand it better.\n",
      " |      \n",
      " |      Returns\n",
      " |      -------\n",
      " |      list: [handle to the plot, np array of eventtimes]\n",
      " |  \n",
      " |  plt_nx(self, str_plot_desc=None, b_overlay=True)\n",
      " |      Plot out the synthesized nx and timebase. This call assumes that the first\n",
      " |      signal (idx=0) has the eventtimes that will be applied to all signals in\n",
      " |      the object for nx vector estimation.\n",
      " |      \n",
      " |      Parameters\n",
      " |      ----------\n",
      " |      str_plot_desc : string\n",
      " |          Signal metadata description for plot title. Defaults to None\n",
      " |      b_overlay : boolean\n",
      " |          Overlay the nX on top of the original signal. Defaults to True\n",
      " |      \n",
      " |      Return values:\n",
      " |      handle to the plot\n",
      " |  \n",
      " |  plt_polar(self, str_plot_desc=None, idx=0)\n",
      " |      Plot out amplitude in phase in polar format\n",
      " |      \n",
      " |      Parameters\n",
      " |      ----------\n",
      " |      str_plot_desc : string\n",
      " |          Additional title text for the plot. If 'None' then method uses class attribute.\n",
      " |      idx : integer\n",
      " |          Index of signal to pull description. Defaults to 0 (first signal)\n",
      " |      \n",
      " |      Return values:\n",
      " |      handle to the plot\n",
      " |  \n",
      " |  plt_rpm(self, idx_eventtimes=0, idx=0, d_events_per_rev=1.0)\n",
      " |      Plot rpm data in timebase format.\n",
      " |      \n",
      " |      Parameters\n",
      " |      ---------\n",
      " |      idx_eventtimes : integer\n",
      " |          Index of signal eventtimes. Defaults to 0 (first signal)\n",
      " |      idx : integer\n",
      " |          Index of signal to be plotted. Defaults to 0 (first signal)\n",
      " |      d_events_per_rev : double\n",
      " |          Number of events per revolution. It must be a real value to for hunting tooth gear\n",
      " |          combinations. Defaults to 1\n",
      " |      \n",
      " |      Returns\n",
      " |      -------\n",
      " |      list: [handle to the plot, np array of RPM values]\n",
      " |  \n",
      " |  plt_sigs(self, b_verbose=False, b_plot_sg=False, b_plot_filt=False)\n",
      " |      Plot out the data in this signal feature class in the time domain\n",
      " |      \n",
      " |      Parameters\n",
      " |      ----------\n",
      " |      b_verbose : boolean\n",
      " |          Print the intermediate steps (default: False). Useful for stepping through the\n",
      " |          method to troubleshoot or understand it better.\n",
      " |      b_plot_sg : boolean\n",
      " |          Set to True to overlay the Savitsky-Golay filtered signal. Defaults to false\n",
      " |      b_plot_filt : boolean\n",
      " |          Set to True to overlay the FIR filtered signal. Defaults to false\n",
      " |      \n",
      " |      Returns\n",
      " |      -------\n",
      " |      plot_handle : handle to the plot\n",
      " |  \n",
      " |  plt_spec(self)\n",
      " |      Plot data in frequency domain. This method assumes a real signal\n",
      " |      \n",
      " |      Return values:\n",
      " |      list : [handle to the plot, frequency labels, complex-spectral values]\n",
      " |  \n",
      " |  str_eu(self, idx=0)\n",
      " |      Return engineering unit descriptor\n",
      " |      \n",
      " |      Parameter\n",
      " |      ---------\n",
      " |      idx : integer\n",
      " |          Index of signal to pull description. Defaults to 0 (first signal)\n",
      " |      \n",
      " |      Returns\n",
      " |      -------\n",
      " |      str_eu : string\n",
      " |          String describing engineering units\n",
      " |  \n",
      " |  str_eu_set(self, str_eu, idx=0)\n",
      " |      Set engineering unit descriptor\n",
      " |      \n",
      " |      Parameter\n",
      " |      ---------\n",
      " |      str_eu : string\n",
      " |          String describing engineering units\n",
      " |      idx : integer\n",
      " |          Index of signal to pull description. Defaults to 0 (first signal)\n",
      " |  \n",
      " |  str_filt_butter_desc(self, idx=0)\n",
      " |      Complete description of the Butterworth filter design\n",
      " |      \n",
      " |      Parameter\n",
      " |      ---------\n",
      " |      idx : integer\n",
      " |          Index of signal to pull description. Defaults to 0 (first signal)\n",
      " |  \n",
      " |  str_filt_butter_desc_short(self, idx=0)\n",
      " |      Abbreviated description of the Butterworth filter design, useful for legend labels\n",
      " |      \n",
      " |      Parameter\n",
      " |      ---------\n",
      " |      idx : integer\n",
      " |          Index of signal to pull description. Defaults to 0 (first signal)\n",
      " |  \n",
      " |  str_filt_sg_desc(self, idx=0)\n",
      " |      Complete Filt description of the Savitsky-Golay filter design\n",
      " |  \n",
      " |  str_filt_sg_desc_short(self, idx=0)\n",
      " |      Short Filt description, useful for plot legend labels\n",
      " |  \n",
      " |  str_machine_name(self, idx=0)\n",
      " |      Return machine name\n",
      " |      \n",
      " |      Parameter\n",
      " |      ---------\n",
      " |      idx : integer\n",
      " |          Index of signal to pull description. Defaults to 0 (first signal)\n",
      " |      \n",
      " |      Returns\n",
      " |      -------\n",
      " |      str_machine_name : string\n",
      " |          Machine name string\n",
      " |  \n",
      " |  str_machine_name_set(self, str_machine_name, idx=0)\n",
      " |      Set machine point name\n",
      " |      \n",
      " |      Parameter\n",
      " |      ---------\n",
      " |      str_machine_name : string\n",
      " |          Machine name string\n",
      " |      idx : integer\n",
      " |          Index of signal to pull description. Defaults to 0 (first signal)\n",
      " |  \n",
      " |  str_point_name(self, idx=0)\n",
      " |      Return signal point name\n",
      " |      \n",
      " |      Parameter\n",
      " |      ---------\n",
      " |      idx : integer\n",
      " |          Index of signal to pull description. Defaults to 0 (first signal)\n",
      " |      \n",
      " |      Returns\n",
      " |      -------\n",
      " |      str_eu : string\n",
      " |          Engineering unit string\n",
      " |  \n",
      " |  str_point_name_set(self, str_point_name, idx=0)\n",
      " |      Set signal point name\n",
      " |      \n",
      " |      Parameter\n",
      " |      ---------\n",
      " |      str_point_name : string\n",
      " |          Signal point name\n",
      " |      idx : integer\n",
      " |          Index of signal to pull description. Defaults to 0 (first signal)\n",
      " |  \n",
      " |  ylim_tb(self, ylim_tb_in=None, idx=0)\n",
      " |      Interface for the vertical plotting limits\n",
      " |      \n",
      " |      Parameter\n",
      " |      ---------\n",
      " |      ylim_tb_in : list of doubles, None\n",
      " |          vertical plot limits. If set to None, returns the limits without change\n",
      " |      idx : integer\n",
      " |          Index of signal to pull description. Defaults to 0 (first signal)\n",
      " |      \n",
      " |      Returns\n",
      " |      -------\n",
      " |      list of doubles : ylim_tb applied to signal with index=idx\n",
      " |  \n",
      " |  ----------------------------------------------------------------------\n",
      " |  Readonly properties defined here:\n",
      " |  \n",
      " |  b_complex\n",
      " |  \n",
      " |  i_ns\n",
      " |      Number of samples\n",
      " |  \n",
      " |  str_file\n",
      " |      Output (.csv) file name\n",
      " |  \n",
      " |  ----------------------------------------------------------------------\n",
      " |  Data descriptors defined here:\n",
      " |  \n",
      " |  b_spec_peak\n",
      " |      Boolean set to true to label peak in spectrum\n",
      " |  \n",
      " |  np_d_sig\n",
      " |      Numpy array containing the first signal\n",
      " |  \n",
      " |  str_plot_desc\n",
      " |      Plot description\n",
      " |  \n",
      " |  ----------------------------------------------------------------------\n",
      " |  Static methods inherited from ClassPlotSupport:\n",
      " |  \n",
      " |  draw_multi_color_text(x, y, lst_text, str_delim=', ', b_newline=False, **kw)\n",
      " |      Draw a list of strings in color order of the plot traces. Inspired by\n",
      " |      a post on SO: https://stackoverflow.com/questions/9169052/partial-coloring-of-text-in-matplotlib\n",
      " |      \n",
      " |      Parameters\n",
      " |      ----------\n",
      " |      \n",
      " |          x : double\n",
      " |              Horizontal location of text\n",
      " |          y : double\n",
      " |              Vertical location of text\n",
      " |          lst_text : list, string\n",
      " |              List of string\n",
      " |          str_delim : string\n",
      " |              Delimiter to be used\n",
      " |          b_newline : boolean\n",
      " |              Set to true to force a newline at the end of each data.\n",
      " |              Defaults to False.\n",
      " |  \n",
      " |  get_dt_str(dt_timestamp)\n",
      " |      Method to format date and time for plots, files, etc.\n",
      " |      \n",
      " |      Parameters\n",
      " |      ----------\n",
      " |      dt_timestamp : datetime\n",
      " |          Datetime for conversion\n",
      " |      \n",
      " |      Returns\n",
      " |      -------\n",
      " |      str_dt_timestamp : string\n",
      " |          Formatted date-time string\n",
      " |  \n",
      " |  get_dt_str_utc_conv(dt_timestamp)\n",
      " |      Method to format date and time for plots, files, etc. with a conversion\n",
      " |      from UTC to local.\n",
      " |      \n",
      " |      Parameters\n",
      " |      ----------\n",
      " |      dt_timestamp : datetime\n",
      " |          Datetime for conversion\n",
      " |      \n",
      " |      Returns\n",
      " |      -------\n",
      " |      str_dt_timestamp : string\n",
      " |          Formatted date-time string\n",
      " |  \n",
      " |  get_font_plots()\n",
      " |      Global function to provide common fonts across multiple plots\n",
      " |      \n",
      " |      @return:\n",
      " |          string : font name\n",
      " |  \n",
      " |  get_idx_by_dt(np_d_time, dt_timestamp, dt_timestamp_mark)\n",
      " |      Method to format date and time for plots, files, etc.\n",
      " |      \n",
      " |      Parameters\n",
      " |      ----------\n",
      " |      np_d_time : numpy array, double\n",
      " |          Time stamp for each sample, assumed to be seconds from the dt_timestamp value\n",
      " |      dt_timestamp : datetime\n",
      " |          Date time value for the first time sample in np_d_time\n",
      " |      dt_timestamp_mark : datetime\n",
      " |          Date time value for closest index\n",
      " |      \n",
      " |      Returns\n",
      " |      -------\n",
      " |      integer : index of the closest value to dt_timestamp_mark\n",
      " |  \n",
      " |  get_plot_round(d_num)\n",
      " |      Why another round function? Indeed, this one is designed to give a reasonable\n",
      " |      look to the grid lines. This function is mocked up in RoundingTest.ipynb\n",
      " |      \n",
      " |      Parameters\n",
      " |      ----------\n",
      " |      d_num : double\n",
      " |          Number to be rounded\n",
      " |      \n",
      " |      Return\n",
      " |      ------\n",
      " |      list\n",
      " |          double : number rounded off\n",
      " |          string : format string\n",
      " |  \n",
      " |  get_plot_setup_cols()\n",
      " |      Global function to provide common number of grid columns\n",
      " |      \n",
      " |      @return:\n",
      " |          integer : number of columns\n",
      " |  \n",
      " |  get_plot_setup_row_sig()\n",
      " |      Global function to provide common starting point for rectilinear time-based plot data\n",
      " |      \n",
      " |      @return:\n",
      " |          integer : row at which to start plotting signal data\n",
      " |  \n",
      " |  get_plot_setup_row_sig_span()\n",
      " |      Global function to provide common row span for rectilinear time-based plot data\n",
      " |      \n",
      " |      @return:\n",
      " |          integer : row span for plotting signal data\n",
      " |  \n",
      " |  get_plot_setup_row_sparklines()\n",
      " |  \n",
      " |  get_plot_setup_rows()\n",
      " |      Global function to provide common number of grid rows\n",
      " |      \n",
      " |      @return:\n",
      " |          integer : number of rows\n",
      " |  \n",
      " |  get_plot_setup_rows_header_buffer()\n",
      " |  \n",
      " |  get_plot_sparkline_desc(str_format, d_value, str_eu, str_eu_secondary)\n",
      " |      Helper function to provide consistent formatting for the spark line descriptions\n",
      " |      \n",
      " |      Parameters\n",
      " |      str_format : string\n",
      " |          Formatting string for the value\n",
      " |      d_value : float\n",
      " |          Numerical value to be included in the header\n",
      " |      str_eu : string\n",
      " |          Primary engineering unit descriptor (volts, mils, g's, etc.)\n",
      " |      str_eu_secondary : string\n",
      " |          Secondary engineering unit descriptor (pp, pk, rms, etc.)\n",
      " |      \n",
      " |      Returns\n",
      " |          string : sparkline description\n",
      " |  \n",
      " |  get_text_trunc(str_data)\n",
      " |      Truncate text string\n",
      " |  \n",
      " |  get_trac_color(i_trace)\n",
      " |      Global function that returns trace colors\n",
      " |      \n",
      " |      Parameters\n",
      " |      ----------\n",
      " |          i_trace : integer\n",
      " |              0-based index to the trace on the plot\n",
      " |      \n",
      " |      Returns\n",
      " |      -------\n",
      " |          str_color : string with the color code to use\n",
      " |  \n",
      " |  set_plot_header_date(i_rows, i_cols, i_row_offset, lst_dt_timestamp)\n",
      " |      Global function that creates the date field and value in the header\n",
      " |      \n",
      " |       Parameters\n",
      " |       ----------\n",
      " |           i_rows : integer\n",
      " |               Number of rows in the grid\n",
      " |           i_cols : integer\n",
      " |               Number of columns in the grid\n",
      " |           i_row_offset : integer\n",
      " |              Number of rows to skip; useful for multi-pane plots\n",
      " |          lst_dt_timestamp : list, datetime\n",
      " |              Lit of timestamps, assumed to be in order of plotted traces\n",
      " |      \n",
      " |      Returns:\n",
      " |      \n",
      " |          axes_desc : handle to timestamp name axis\n",
      " |  \n",
      " |  set_plot_header_desc(i_rows, i_cols, i_row_offset, str_plot_desc)\n",
      " |      Global function that creates the description field and value in the header\n",
      " |      \n",
      " |       Parameters\n",
      " |       ----------\n",
      " |           i_rows : integer\n",
      " |               Number of rows in the grid\n",
      " |           i_cols : integer\n",
      " |               Number of columns in the grid\n",
      " |           i_row_offset : integer\n",
      " |              Number of rows to skip; useful for multi-pane plots\n",
      " |          str_plot_desc : string\n",
      " |              Description string\n",
      " |      \n",
      " |      Returns:\n",
      " |      \n",
      " |          axes_desc : handle to description axis\n",
      " |  \n",
      " |  set_plot_header_machine(i_rows, i_cols, i_row_offset, str_machine_name)\n",
      " |      Global function that creates the description field and value in the header\n",
      " |      \n",
      " |       Parameters\n",
      " |       ----------\n",
      " |           i_rows : integer\n",
      " |               Number of rows in the grid\n",
      " |           i_cols : integer\n",
      " |               Number of columns in the grid\n",
      " |           i_row_offset : integer\n",
      " |              Number of rows to skip; useful for multi-pane plots\n",
      " |          str_machine_name : string\n",
      " |              Machine name string\n",
      " |      \n",
      " |      Returns:\n",
      " |      \n",
      " |          axes_desc : handle to machine name axis\n",
      " |  \n",
      " |  set_plot_header_point(i_rows, i_cols, i_row_offset, lst_str_point_name)\n",
      " |      Global function that creates the point name field and value in the header\n",
      " |      \n",
      " |       Parameters\n",
      " |       ----------\n",
      " |           i_rows : integer\n",
      " |               Number of rows in the grid\n",
      " |           i_cols : integer\n",
      " |               Number of columns in the grid\n",
      " |           i_row_offset : integer\n",
      " |              Number of rows to skip; useful for multi-pane plots\n",
      " |          lst_str_point_name : list, string\n",
      " |              Lit of point name strings, assumed to be in order of plotted traces\n",
      " |      \n",
      " |      Returns:\n",
      " |      \n",
      " |          axes_desc : handle to point name axis\n",
      " |  \n",
      " |  set_plot_setup_sig_axis(ax, d_fs, x_limit_sig=array([0., 1.]), y_limit_sig=array([0., 1.]), str_eu='volts', str_yaxis_desc='Amplitude', str_plot_desc='Timebase', str_processing='Raw')\n",
      " |      Set up the signal plotting axis\n",
      " |      \n",
      " |      Parameters\n",
      " |      ----------\n",
      " |      ax : matplotlib axes object\n",
      " |          Axis object for the signal plotting area\n",
      " |      d_fs : double\n",
      " |          Sampling frequency, hertz. Needed so it can be included in the label.\n",
      " |      x_limit_sig : list, double\n",
      " |          x-axis minimum and maximum values\n",
      " |      y_limit_sig : list, double\n",
      " |          y-axis minimum and maximum values\n",
      " |      str_eu : string\n",
      " |          y-axis units\n",
      " |      str_yaxis_desc : string\n",
      " |          y-axis description\n",
      " |      str_plot_desc : string\n",
      " |          Plot description\n",
      " |      str_processing : string\n",
      " |          Processing stage and steps description\n",
      " |  \n",
      " |  set_plot_spark_desc(i_rows, i_cols, i_row_offset, str_spark_desc)\n",
      " |      Global function that creates the description field for the sparklines\n",
      " |      \n",
      " |       Parameters\n",
      " |       ----------\n",
      " |           i_rows : integer\n",
      " |               Number of rows in the grid\n",
      " |           i_cols : integer\n",
      " |               Number of columns in the grid\n",
      " |           i_row_offset : integer\n",
      " |              Number of rows to skip; useful for multi-pane plots\n",
      " |          str_spark_desc : string\n",
      " |              Description string\n",
      " |      \n",
      " |      Returns:\n",
      " |      \n",
      " |          axes_desc : handle to description axis\n",
      " |  \n",
      " |  set_plot_sparkline(i_rows, i_cols, i_row_offset, np_cl_spark, dt_timestamp_mark)\n",
      " |      Global function that creates the description field for the sparklines\n",
      " |      \n",
      " |       Parameters\n",
      " |       ----------\n",
      " |           i_rows : integer\n",
      " |               Number of rows in the grid\n",
      " |           i_cols : integer\n",
      " |               Number of columns in the grid\n",
      " |           i_row_offset : integer\n",
      " |              Number of rows to skip; useful for multi-pane plots\n",
      " |          np_cl_spark : numpy array, ClSigCompUneven\n",
      " |              Array with signals to be plotted in the sparklines\n",
      " |          dt_timestamp_mark : datetime\n",
      " |              Date and time to place marker\n",
      " |      \n",
      " |      Returns:\n",
      " |      \n",
      " |          axes_desc : handle to description axis\n",
      " |  \n",
      " |  ----------------------------------------------------------------------\n",
      " |  Data descriptors inherited from ClassPlotSupport:\n",
      " |  \n",
      " |  __dict__\n",
      " |      dictionary for instance variables (if defined)\n",
      " |  \n",
      " |  __weakref__\n",
      " |      list of weak references to the object (if defined)\n",
      "\n"
     ]
    }
   ],
   "source": [
    "help(ClSigFeatures)"
   ]
  },
  {
   "cell_type": "markdown",
   "metadata": {},
   "source": [
    "### Define plot mode. \n",
    "Interactive mode is helpful for visuallizing the program execution"
   ]
  },
  {
   "cell_type": "code",
   "execution_count": 4,
   "metadata": {},
   "outputs": [],
   "source": [
    "#%matplotlib widget"
   ]
  },
  {
   "cell_type": "markdown",
   "metadata": {},
   "source": [
    "### Test for minimal construction"
   ]
  },
  {
   "cell_type": "code",
   "execution_count": 5,
   "metadata": {},
   "outputs": [],
   "source": [
    "ClSigTestMin = ClSigFeatures(np.array([1.,2., 3.]),1.1)"
   ]
  },
  {
   "cell_type": "code",
   "execution_count": 6,
   "metadata": {
    "scrolled": true
   },
   "outputs": [
    {
     "data": {
      "image/png": "[encoded data removed]",
      "text/plain": [
       "<Figure size 180x120 with 16 Axes>"
      ]
     },
     "metadata": {
      "needs_background": "light"
     },
     "output_type": "display_data"
    }
   ],
   "source": [
    "plt.rcParams['figure.figsize'] = [6, 4]\n",
    "lst_testmin = ClSigTestMin.plt_sigs()"
   ]
  },
  {
   "cell_type": "markdown",
   "metadata": {},
   "source": [
    "### Test - Even number of samples"
   ]
  },
  {
   "cell_type": "markdown",
   "metadata": {},
   "source": [
    "In this test a simple sin wave is created and passed into the signal feature object for processing"
   ]
  },
  {
   "cell_type": "code",
   "execution_count": 7,
   "metadata": {},
   "outputs": [
    {
     "name": "stdout",
     "output_type": "stream",
     "text": [
      "Signal frequency, hertz: 10.0000000000\n"
     ]
    }
   ],
   "source": [
    "d_fs_even = 2048\n",
    "i_ns = (d_fs_even*2)\n",
    "d_freq_sig = 20./(float(i_ns)/d_fs_even)\n",
    "print('Signal frequency, hertz: ' + '%0.10f' % d_freq_sig)\n",
    "d_timebase_scale = float(i_ns)/(d_fs_even*12.)\n",
    "d_time_ext = np.linspace(0,(i_ns-1),i_ns)/float(d_fs_even)\n",
    "np_d_test_even = np.sin(2 * math.pi * d_freq_sig * d_time_ext )\n",
    "ClSigEven = ClSigFeatures(np_d_test_even, d_fs_even)"
   ]
  },
  {
   "cell_type": "markdown",
   "metadata": {},
   "source": [
    "#### Test plot"
   ]
  },
  {
   "cell_type": "code",
   "execution_count": 8,
   "metadata": {},
   "outputs": [
    {
     "data": {
      "image/png": "[encoded data removed]",
      "text/plain": [
       "<Figure size 180x120 with 16 Axes>"
      ]
     },
     "metadata": {
      "needs_background": "light"
     },
     "output_type": "display_data"
    }
   ],
   "source": [
    "lst_sig_even = ClSigEven.plt_sigs()"
   ]
  },
  {
   "cell_type": "code",
   "execution_count": 9,
   "metadata": {},
   "outputs": [
    {
     "data": {
      "image/png": "[encoded data removed]",
      "text/plain": [
       "<Figure size 180x120 with 1 Axes>"
      ]
     },
     "metadata": {
      "needs_background": "light"
     },
     "output_type": "display_data"
    }
   ],
   "source": [
    "lst_spec_even = ClSigEven.plt_spec()"
   ]
  },
  {
   "cell_type": "markdown",
   "metadata": {},
   "source": [
    "Extract the maximum value (assumed to be our component at 10 hertz) and check that the amplitude is very close to 1."
   ]
  },
  {
   "cell_type": "code",
   "execution_count": 10,
   "metadata": {},
   "outputs": [
    {
     "name": "stdout",
     "output_type": "stream",
     "text": [
      "Maximum spectral value: 0.9995119571\n"
     ]
    }
   ],
   "source": [
    "d_test_point = np.max(np.abs(lst_spec_even[2]))\n",
    "print('Maximum spectral value: ' + '%0.10f' % d_test_point)\n",
    "assert abs(d_test_point - 1.) < 1e-3, 'Failed to find even component amplitude'"
   ]
  },
  {
   "cell_type": "markdown",
   "metadata": {},
   "source": [
    "### Test - Odd number of samples"
   ]
  },
  {
   "cell_type": "markdown",
   "metadata": {},
   "source": [
    "In this test a simple sin wave with an odd number of samples is created and passed into the signal feature object for processing. This is primarily to test the rfft scaling."
   ]
  },
  {
   "cell_type": "code",
   "execution_count": 11,
   "metadata": {},
   "outputs": [
    {
     "name": "stdout",
     "output_type": "stream",
     "text": [
      "Signal frequency, hertz: 10.000000\n"
     ]
    }
   ],
   "source": [
    "d_fs = 2047\n",
    "i_ns = (d_fs*3)\n",
    "d_freq_sig = 30./(float(i_ns)/d_fs)\n",
    "print('Signal frequency, hertz: ' + '%0.6f' % d_freq_sig)\n",
    "d_time_ext = np.linspace(0,(i_ns-1),i_ns)/float(d_fs)\n",
    "np_d_test = np.sin(2 * math.pi * d_freq_sig * d_time_ext )\n",
    "ClSigOdd = ClSigFeatures(np_d_test, d_fs)"
   ]
  },
  {
   "cell_type": "markdown",
   "metadata": {},
   "source": [
    "#### Test plot"
   ]
  },
  {
   "cell_type": "code",
   "execution_count": 12,
   "metadata": {},
   "outputs": [
    {
     "data": {
      "image/png": "[encoded data removed]",
      "text/plain": [
       "<Figure size 180x120 with 16 Axes>"
      ]
     },
     "metadata": {
      "needs_background": "light"
     },
     "output_type": "display_data"
    }
   ],
   "source": [
    "lst_plot_odd = ClSigOdd.plt_sigs()"
   ]
  },
  {
   "cell_type": "code",
   "execution_count": 13,
   "metadata": {},
   "outputs": [
    {
     "data": {
      "image/png": "[encoded data removed]",
      "text/plain": [
       "<Figure size 180x120 with 1 Axes>"
      ]
     },
     "metadata": {
      "needs_background": "light"
     },
     "output_type": "display_data"
    }
   ],
   "source": [
    "lst_spec_odd = ClSigOdd.plt_spec()"
   ]
  },
  {
   "cell_type": "code",
   "execution_count": 14,
   "metadata": {},
   "outputs": [
    {
     "name": "stdout",
     "output_type": "stream",
     "text": [
      "Maximum spectral value: 0.999837\n"
     ]
    }
   ],
   "source": [
    "d_test_point = np.max(np.abs(lst_spec_odd[2]))\n",
    "print('Maximum spectral value: ' + '%0.6f' % d_test_point)\n",
    "assert abs(d_test_point - 1.) < 1e-3, 'Failed to find odd component amplitude'"
   ]
  },
  {
   "cell_type": "markdown",
   "metadata": {},
   "source": [
    "### Test for engineering units"
   ]
  },
  {
   "cell_type": "code",
   "execution_count": 15,
   "metadata": {},
   "outputs": [],
   "source": [
    "ClSigTestMin.str_eu = \"g's\""
   ]
  },
  {
   "cell_type": "code",
   "execution_count": 16,
   "metadata": {},
   "outputs": [
    {
     "data": {
      "image/png": "[encoded data removed]",
      "text/plain": [
       "<Figure size 180x120 with 16 Axes>"
      ]
     },
     "metadata": {
      "needs_background": "light"
     },
     "output_type": "display_data"
    }
   ],
   "source": [
    "lst_sigs_eu = ClSigTestMin.plt_sigs()"
   ]
  },
  {
   "cell_type": "code",
   "execution_count": 17,
   "metadata": {},
   "outputs": [],
   "source": [
    "lst_sigs_eu.set_size_inches(4*1.6, 4)\n",
    "lst_sigs_eu.savefig('Test_Timebase_EU.pdf')"
   ]
  },
  {
   "cell_type": "code",
   "execution_count": 18,
   "metadata": {},
   "outputs": [
    {
     "data": {
      "image/png": "[encoded data removed]",
      "text/plain": [
       "<Figure size 180x120 with 1 Axes>"
      ]
     },
     "metadata": {
      "needs_background": "light"
     },
     "output_type": "display_data"
    }
   ],
   "source": [
    "lst_spec_eu = ClSigTestMin.plt_spec()"
   ]
  },
  {
   "cell_type": "markdown",
   "metadata": {},
   "source": [
    "### Test plot annotations"
   ]
  },
  {
   "cell_type": "code",
   "execution_count": 19,
   "metadata": {},
   "outputs": [
    {
     "data": {
      "image/png": "[encoded data removed]",
      "text/plain": [
       "<Figure size 180x120 with 16 Axes>"
      ]
     },
     "metadata": {
      "needs_background": "light"
     },
     "output_type": "display_data"
    }
   ],
   "source": [
    "ClSigTestMin.str_plot_desc = 'My Great Plot'\n",
    "lst_sigs_title = ClSigTestMin.plt_sigs()"
   ]
  },
  {
   "cell_type": "code",
   "execution_count": 20,
   "metadata": {},
   "outputs": [
    {
     "data": {
      "image/png": "[encoded data removed]",
      "text/plain": [
       "<Figure size 180x120 with 1 Axes>"
      ]
     },
     "metadata": {
      "needs_background": "light"
     },
     "output_type": "display_data"
    }
   ],
   "source": [
    "lst_spec_title = ClSigTestMin.plt_spec()"
   ]
  },
  {
   "cell_type": "code",
   "execution_count": 21,
   "metadata": {},
   "outputs": [
    {
     "data": {
      "image/png": "[encoded data removed]",
      "text/plain": [
       "<Figure size 180x120 with 16 Axes>"
      ]
     },
     "metadata": {
      "needs_background": "light"
     },
     "output_type": "display_data"
    }
   ],
   "source": [
    "ClSigTestMin.ylim_tb = [-2., 2.]\n",
    "lst_sigs_ylim_tb = ClSigTestMin.plt_sigs()"
   ]
  },
  {
   "cell_type": "markdown",
   "metadata": {},
   "source": [
    "#### Labelling for the minimum instatiation case"
   ]
  },
  {
   "cell_type": "code",
   "execution_count": 22,
   "metadata": {},
   "outputs": [
    {
     "data": {
      "image/png": "[encoded data removed]",
      "text/plain": [
       "<Figure size 180x120 with 1 Axes>"
      ]
     },
     "metadata": {
      "needs_background": "light"
     },
     "output_type": "display_data"
    }
   ],
   "source": [
    "ClSigTestMin.b_spec_peak = True\n",
    "lst_spec_peak_tb = ClSigTestMin.plt_spec()"
   ]
  },
  {
   "cell_type": "markdown",
   "metadata": {},
   "source": [
    "#### Labelling for the even number of sample cases"
   ]
  },
  {
   "cell_type": "code",
   "execution_count": 23,
   "metadata": {},
   "outputs": [
    {
     "data": {
      "image/png": "[encoded data removed]",
      "text/plain": [
       "<Figure size 180x120 with 1 Axes>"
      ]
     },
     "metadata": {
      "needs_background": "light"
     },
     "output_type": "display_data"
    }
   ],
   "source": [
    "ClSigEven.b_spec_peak = True\n",
    "lst_spec_peak_tb = ClSigEven.plt_spec()"
   ]
  },
  {
   "cell_type": "markdown",
   "metadata": {},
   "source": [
    "#### Labelling for the odd number of sample cases"
   ]
  },
  {
   "cell_type": "code",
   "execution_count": 24,
   "metadata": {},
   "outputs": [
    {
     "data": {
      "image/png": "[encoded data removed]",
      "text/plain": [
       "<Figure size 180x120 with 1 Axes>"
      ]
     },
     "metadata": {
      "needs_background": "light"
     },
     "output_type": "display_data"
    }
   ],
   "source": [
    "ClSigOdd.b_spec_peak = True\n",
    "lst_spec_peak_tb = ClSigOdd.plt_spec()"
   ]
  },
  {
   "cell_type": "markdown",
   "metadata": {},
   "source": [
    "Check the help to be sure it is relevant"
   ]
  },
  {
   "cell_type": "code",
   "execution_count": 25,
   "metadata": {},
   "outputs": [
    {
     "name": "stdout",
     "output_type": "stream",
     "text": [
      "Help on function plt_spec in module appvib:\n",
      "\n",
      "plt_spec(self)\n",
      "    Plot data in frequency domain. This method assumes a real signal\n",
      "    \n",
      "    Return values:\n",
      "    list : [handle to the plot, frequency labels, complex-spectral values]\n",
      "\n"
     ]
    }
   ],
   "source": [
    "help(ClSigFeatures.plt_spec)"
   ]
  },
  {
   "cell_type": "markdown",
   "metadata": {},
   "source": [
    "Check the estimated frequency"
   ]
  },
  {
   "cell_type": "code",
   "execution_count": 26,
   "metadata": {},
   "outputs": [
    {
     "name": "stdout",
     "output_type": "stream",
     "text": [
      "Estimate frequency: 10.000000000000\n"
     ]
    }
   ],
   "source": [
    "idx_max = np.argmax(np.abs(lst_spec_peak_tb[2]))\n",
    "d_freq = lst_spec_peak_tb[1]\n",
    "d_freq_est = d_freq[idx_max]\n",
    "assert abs( d_freq_est - 10.0) < 1e-12, 'Failed to find odd number frequency'\n",
    "print('Estimate frequency: ' + '%0.12f' % d_freq_est)"
   ]
  },
  {
   "cell_type": "markdown",
   "metadata": {},
   "source": [
    "### Test for minimal construction, multiple channels"
   ]
  },
  {
   "cell_type": "markdown",
   "metadata": {},
   "source": [
    "#### First channel (index = 0)"
   ]
  },
  {
   "cell_type": "code",
   "execution_count": 27,
   "metadata": {},
   "outputs": [],
   "source": [
    "d_fs_ch1 = 1.1\n",
    "cl_sig_mult_ch = ClSigFeatures(np.array([1.,2., 3.]),d_fs_ch1)"
   ]
  },
  {
   "cell_type": "markdown",
   "metadata": {},
   "source": [
    "#### Second channel (index = 1)"
   ]
  },
  {
   "cell_type": "code",
   "execution_count": 28,
   "metadata": {},
   "outputs": [
    {
     "data": {
      "text/plain": [
       "1"
      ]
     },
     "execution_count": 28,
     "metadata": {},
     "output_type": "execute_result"
    }
   ],
   "source": [
    "d_fs_ch2 = 2.2\n",
    "np_ch2 = np.array([3., 2.5, 2.])\n",
    "cl_sig_mult_ch.idx_add_sig(np_ch2, d_fs_ch2, str_point_name='CH2') "
   ]
  },
  {
   "cell_type": "code",
   "execution_count": 29,
   "metadata": {
    "scrolled": true
   },
   "outputs": [
    {
     "data": {
      "image/png": "[encoded data removed]",
      "text/plain": [
       "<Figure size 180x240 with 32 Axes>"
      ]
     },
     "metadata": {
      "needs_background": "light"
     },
     "output_type": "display_data"
    }
   ],
   "source": [
    "plt.rcParams['figure.figsize'] = [6, 8]\n",
    "lst_testmin = cl_sig_mult_ch.plt_sigs()"
   ]
  },
  {
   "cell_type": "code",
   "execution_count": 30,
   "metadata": {},
   "outputs": [
    {
     "data": {
      "text/plain": [
       "True"
      ]
     },
     "execution_count": 30,
     "metadata": {},
     "output_type": "execute_result"
    }
   ],
   "source": [
    "cl_sig_mult_ch.b_save_data()"
   ]
  },
  {
   "cell_type": "markdown",
   "metadata": {},
   "source": [
    "Read the file back in and compare to the input data"
   ]
  },
  {
   "cell_type": "code",
   "execution_count": 31,
   "metadata": {},
   "outputs": [],
   "source": [
    "lst_file = cl_sig_mult_ch.b_read_data_as_df(str_filename=cl_sig_mult_ch.str_file)"
   ]
  },
  {
   "cell_type": "markdown",
   "metadata": {},
   "source": [
    "Extract the data frame"
   ]
  },
  {
   "cell_type": "code",
   "execution_count": 32,
   "metadata": {},
   "outputs": [],
   "source": [
    "df_test = lst_file[0]\n",
    "d_fs_test = lst_file[1]\n",
    "d_delta_t_test = lst_file[2]"
   ]
  },
  {
   "cell_type": "code",
   "execution_count": 33,
   "metadata": {},
   "outputs": [],
   "source": [
    "assert abs(df_test.CH2[2] - np_ch2[2]) < 1e-15, 'Failed to save second data series' \n",
    "assert abs(df_test.CH2[1] - np_ch2[1]) < 1e-15, 'Failed to save second data series' "
   ]
  },
  {
   "cell_type": "markdown",
   "metadata": {},
   "source": [
    "### Event times"
   ]
  },
  {
   "cell_type": "code",
   "execution_count": 34,
   "metadata": {},
   "outputs": [
    {
     "data": {
      "image/png": "[encoded data removed]",
      "text/plain": [
       "<Figure size 180x120 with 16 Axes>"
      ]
     },
     "metadata": {
      "needs_background": "light"
     },
     "output_type": "display_data"
    }
   ],
   "source": [
    "plt.rcParams['figure.figsize'] = [6, 4]\n",
    "d_threshold = 0.0\n",
    "d_hysteresis = 0.1\n",
    "d_eventtimes = ClSigEven.np_d_est_triggers(np_d_sig=ClSigEven.np_d_sig, i_direction=0, d_threshold=d_threshold, \n",
    "                            d_hysteresis=d_hysteresis, b_verbose=False)\n",
    "lst_eventtimes = ClSigEven.plt_eventtimes()"
   ]
  },
  {
   "cell_type": "code",
   "execution_count": 35,
   "metadata": {},
   "outputs": [
    {
     "data": {
      "image/png": "[encoded data removed]",
      "text/plain": [
       "<Figure size 180x120 with 1 Axes>"
      ]
     },
     "metadata": {
      "needs_background": "light"
     },
     "output_type": "display_data"
    }
   ],
   "source": [
    "lst_nx = ClSigEven.plt_nx()"
   ]
  },
  {
   "cell_type": "code",
   "execution_count": 36,
   "metadata": {},
   "outputs": [
    {
     "data": {
      "image/png": "[encoded data removed]",
      "text/plain": [
       "<Figure size 180x120 with 1 Axes>"
      ]
     },
     "metadata": {
      "needs_background": "light"
     },
     "output_type": "display_data"
    }
   ],
   "source": [
    "d_threshold = 0.5\n",
    "d_hysteresis = 0.1\n",
    "d_eventtimes = ClSigEven.np_d_est_triggers(np_d_sig=ClSigEven.np_d_sig, i_direction=0, d_threshold=d_threshold, \n",
    "                            d_hysteresis=d_hysteresis, b_verbose=False)\n",
    "lst_nx = ClSigEven.plt_nx()"
   ]
  },
  {
   "cell_type": "code",
   "execution_count": null,
   "metadata": {},
   "outputs": [],
   "source": []
  }
 ],
 "metadata": {
  "kernelspec": {
   "display_name": "pyenv3100",
   "language": "python",
   "name": "pyenv3100"
  },
  "language_info": {
   "codemirror_mode": {
    "name": "ipython",
    "version": 3
   },
   "file_extension": ".py",
   "mimetype": "text/x-python",
   "name": "python",
   "nbconvert_exporter": "python",
   "pygments_lexer": "ipython3",
   "version": "3.10.1"
  }
 },
 "nbformat": 4,
 "nbformat_minor": 4
}
