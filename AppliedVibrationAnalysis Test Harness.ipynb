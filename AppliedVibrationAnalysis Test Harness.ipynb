{
 "cells": [
  {
   "cell_type": "markdown",
   "metadata": {},
   "source": [
    "# Test harness for applied vibration class"
   ]
  },
  {
   "cell_type": "markdown",
   "metadata": {},
   "source": [
    "### Import the libraries"
   ]
  },
  {
   "cell_type": "code",
   "execution_count": 1,
   "metadata": {},
   "outputs": [],
   "source": [
    "import numpy as np\n",
    "import math"
   ]
  },
  {
   "cell_type": "markdown",
   "metadata": {},
   "source": [
    "### Import the signal processing library"
   ]
  },
  {
   "cell_type": "code",
   "execution_count": 2,
   "metadata": {},
   "outputs": [],
   "source": [
    "from cl_sig_features import cl_sig_features"
   ]
  },
  {
   "cell_type": "markdown",
   "metadata": {},
   "source": [
    "#### Verify help and class structure"
   ]
  },
  {
   "cell_type": "code",
   "execution_count": 3,
   "metadata": {},
   "outputs": [
    {
     "name": "stdout",
     "output_type": "stream",
     "text": [
      "Help on class cl_sig_features in module cl_sig_features:\n",
      "\n",
      "class cl_sig_features(builtins.object)\n",
      " |  cl_sig_features(np_d_ch1, timebase_scale)\n",
      " |  \n",
      " |  Class to manage signal features on scope data and other signals\n",
      " |  \n",
      " |  Example usage:\n",
      " |      cl_test = cl_sig_features(np.array([1.,2., 3.]),1.1) \n",
      " |      \n",
      " |  Should produce:\n",
      " |  \n",
      " |      print('np_d_ch1: '+ np.array2string(cl_test.np_d_ch1))\n",
      " |      print('timebase_scale: ' + '%0.3f' % cl_test.timebase_scale)\n",
      " |      print('i_ns: ' + '%3.f' % cl_test.i_ns)\n",
      " |      print('d_t_del: ' + '%0.3f' % cl_test.d_t_del)\n",
      " |      print('d_time' + np.array2string(cl_test.d_time))\n",
      " |      \n",
      " |      np_d_ch1: [1. 2. 3.]\n",
      " |      timebase_scale: 1.000\n",
      " |      i_ns:   3\n",
      " |      d_t_del: 4.000\n",
      " |      d_time[0. 4. 8.]\n",
      " |  \n",
      " |  Methods defined here:\n",
      " |  \n",
      " |  __init__(self, np_d_ch1, timebase_scale)\n",
      " |      Initialize self.  See help(type(self)) for accurate signature.\n",
      " |  \n",
      " |  b_save_data(self, str_data_prefix='testclass', idx_data=1)\n",
      " |      Save the data in the object to a .csv file\n",
      " |      \n",
      " |      Keyword arguments:\n",
      " |      str_data_prefix -- String with file prefix (defaults to 'testclass')\n",
      " |      idx_data -- File index (defaults to 1)\n",
      " |      \n",
      " |      Return values:\n",
      " |      True if write succeeds\n",
      " |  \n",
      " |  d_est_rpm(self, d_events_per_rev=1)\n",
      " |      Estimate the RPM from the signal using eventtimes which must have calculate\n",
      " |      with a previous call to the method np_d_est_triggers.\n",
      " |  \n",
      " |  d_fft_real(self)\n",
      " |      Calculate the half spectrum since this is a real-valued signal\n",
      " |  \n",
      " |  np_d_est_triggers(self, i_direction=0, d_thresh=0, d_hyst=0.1, i_kernel=5, b_verbose=False)\n",
      " |      This method estimates speed by identifying trigger points in time, \n",
      " |      a given threshold and hysteresis. When the signal level crosses the threshold,\n",
      " |      the trigger holds off. The trigger holds off until the signal crosses\n",
      " |      hysteresis levels. Hysteresis is defined relative to the threshold voltage. \n",
      " |      \n",
      " |      The trigger times can be used to estimate the rotating speed.\n",
      " |      \n",
      " |      Keyword arguments:\n",
      " |      i_direction -- 0 to search for threshold on rising signal, 1 to search\n",
      " |                      on a falling signal.\n",
      " |      d_thresh  -- Threshold value (default: 0.0 volts for zero crossings)\n",
      " |      d_hyst -- Hysteresis value (default: 0.1 volts)\n",
      " |      i_kernel -- Number of samples to consider in estimating slope, \n",
      " |                      must be an odd number (default: 5)\n",
      " |      b_verbose -- Print the intermediate steps (default: False). Useful\n",
      " |                      for stepping through the method to troubleshoot or\n",
      " |                      understand it better.\n",
      " |      \n",
      " |      Return values:\n",
      " |      np_d_eventtimes -- numpy array with list of trigger event times\n",
      " |  \n",
      " |  plt_eventtimes(self)\n",
      " |      Plot event data in time. \n",
      " |      \n",
      " |      Return values:\n",
      " |      list: [handle to the plot, np array of eventtimes]\n",
      " |  \n",
      " |  plt_rpm(self)\n",
      " |      Plot rpm data in time. \n",
      " |      \n",
      " |      Return values:\n",
      " |      list: [handle to the plot, np array of RPM values]\n",
      " |  \n",
      " |  plt_sigs(self)\n",
      " |      Plot out the data in this signal feature class in the time domain\n",
      " |      \n",
      " |      Return values:\n",
      " |      handle to the plot\n",
      " |  \n",
      " |  plt_spec(self)\n",
      " |      Plot data in frequency domain. This method assumes a real signal\n",
      " |      \n",
      " |      Return values:\n",
      " |      handle to the plot\n",
      " |  \n",
      " |  ----------------------------------------------------------------------\n",
      " |  Readonly properties defined here:\n",
      " |  \n",
      " |  d_events_per_rev\n",
      " |      Events per revolution\n",
      " |  \n",
      " |  d_fs\n",
      " |      Sampling frequeny in hertz\n",
      " |  \n",
      " |  d_t_del\n",
      " |      Delta time between each sample\n",
      " |  \n",
      " |  d_thresh\n",
      " |      Trigger threshold value\n",
      " |  \n",
      " |  d_time\n",
      " |      Numpy array with time values, in seconds\n",
      " |  \n",
      " |  i_ns\n",
      " |      Number of samples in the scope data\n",
      " |  \n",
      " |  np_d_ch1_filt\n",
      " |      Return the signal, filtered with Savitsky-Golay\n",
      " |  \n",
      " |  np_d_ch1_filt1\n",
      " |      Return the signal, filtered with butter FIR filter\n",
      " |  \n",
      " |  np_d_eventtimes\n",
      " |      Numpy array of trigger event times\n",
      " |  \n",
      " |  np_d_rpm\n",
      " |      Estimated RPM values\n",
      " |  \n",
      " |  str_filt1_desc\n",
      " |      Complete Filt1 description of the Butterworth filter design\n",
      " |  \n",
      " |  str_filt1_desc_short\n",
      " |      Short Filt1 description, useful for plot legend labels\n",
      " |  \n",
      " |  str_filt_desc\n",
      " |      Complete Filt description of the Savitsky-Golay filter design\n",
      " |  \n",
      " |  str_filt_desc_short\n",
      " |      Short Filt description, useful for plot legend labels\n",
      " |  \n",
      " |  ----------------------------------------------------------------------\n",
      " |  Data descriptors defined here:\n",
      " |  \n",
      " |  __dict__\n",
      " |      dictionary for instance variables (if defined)\n",
      " |  \n",
      " |  __weakref__\n",
      " |      list of weak references to the object (if defined)\n",
      " |  \n",
      " |  np_d_ch1\n",
      " |      Numpy array containing the scope data\n",
      " |  \n",
      " |  str_eu\n",
      " |      Engineering unit descriptor\n",
      " |  \n",
      " |  str_plot_desc\n",
      " |      Plot description\n",
      " |  \n",
      " |  timebase_scale\n",
      " |      Scope time scale\n",
      " |  \n",
      " |  ylim_tb\n",
      " |      Timebase vertical limits\n",
      "\n"
     ]
    }
   ],
   "source": [
    "help(cl_sig_features)"
   ]
  },
  {
   "cell_type": "markdown",
   "metadata": {},
   "source": [
    "### Define plot mode. \n",
    "Interactive mode is helpful for visuallizing the program execution"
   ]
  },
  {
   "cell_type": "code",
   "execution_count": 4,
   "metadata": {},
   "outputs": [],
   "source": [
    "#%matplotlib widget"
   ]
  },
  {
   "cell_type": "markdown",
   "metadata": {},
   "source": [
    "### Test for minimal construction"
   ]
  },
  {
   "cell_type": "code",
   "execution_count": 5,
   "metadata": {},
   "outputs": [],
   "source": [
    "cl_sig_testmin = cl_sig_features(np.array([1.,2., 3.]),1.1)"
   ]
  },
  {
   "cell_type": "code",
   "execution_count": 6,
   "metadata": {},
   "outputs": [
    {
     "ename": "NameError",
     "evalue": "name 'ylim_tb' is not defined",
     "output_type": "error",
     "traceback": [
      "\u001b[1;31m---------------------------------------------------------------------------\u001b[0m",
      "\u001b[1;31mNameError\u001b[0m                                 Traceback (most recent call last)",
      "\u001b[1;32m~\\AppData\\Local\\Temp/ipykernel_37788/615081331.py\u001b[0m in \u001b[0;36m<module>\u001b[1;34m\u001b[0m\n\u001b[1;32m----> 1\u001b[1;33m \u001b[0mcl_sig_testmin\u001b[0m\u001b[1;33m.\u001b[0m\u001b[0mplt_sigs\u001b[0m\u001b[1;33m(\u001b[0m\u001b[1;33m)\u001b[0m\u001b[1;33m\u001b[0m\u001b[1;33m\u001b[0m\u001b[0m\n\u001b[0m",
      "\u001b[1;32mH:\\Documents\\Hobby\\IssaquahDynamical\\RobotSquirrelRepo\\AppliedVibrationAnalysis\\cl_sig_features.py\u001b[0m in \u001b[0;36mplt_sigs\u001b[1;34m(self)\u001b[0m\n\u001b[0;32m    227\u001b[0m         \u001b[0mplt\u001b[0m\u001b[1;33m.\u001b[0m\u001b[0mxlabel\u001b[0m\u001b[1;33m(\u001b[0m\u001b[1;34m\"Time, seconds\"\u001b[0m\u001b[1;33m)\u001b[0m\u001b[1;33m\u001b[0m\u001b[1;33m\u001b[0m\u001b[0m\n\u001b[0;32m    228\u001b[0m         \u001b[0mplt\u001b[0m\u001b[1;33m.\u001b[0m\u001b[0mylabel\u001b[0m\u001b[1;33m(\u001b[0m\u001b[1;34m\"Channel output, \"\u001b[0m \u001b[1;33m+\u001b[0m \u001b[0mself\u001b[0m\u001b[1;33m.\u001b[0m\u001b[0m__str_eu\u001b[0m\u001b[1;33m)\u001b[0m\u001b[1;33m\u001b[0m\u001b[1;33m\u001b[0m\u001b[0m\n\u001b[1;32m--> 229\u001b[1;33m         \u001b[0mplt\u001b[0m\u001b[1;33m.\u001b[0m\u001b[0mylim\u001b[0m\u001b[1;33m(\u001b[0m\u001b[0mylim_tb\u001b[0m\u001b[1;33m)\u001b[0m\u001b[1;33m\u001b[0m\u001b[1;33m\u001b[0m\u001b[0m\n\u001b[0m\u001b[0;32m    230\u001b[0m         \u001b[0mplt\u001b[0m\u001b[1;33m.\u001b[0m\u001b[0mtitle\u001b[0m\u001b[1;33m(\u001b[0m\u001b[0mself\u001b[0m\u001b[1;33m.\u001b[0m\u001b[0m__str_plot_desc\u001b[0m \u001b[1;33m+\u001b[0m \u001b[1;34m\" Timebase\"\u001b[0m\u001b[1;33m)\u001b[0m\u001b[1;33m\u001b[0m\u001b[1;33m\u001b[0m\u001b[0m\n\u001b[0;32m    231\u001b[0m         plt.legend(['as-aquired', self.str_filt_desc_short, \n",
      "\u001b[1;31mNameError\u001b[0m: name 'ylim_tb' is not defined"
     ]
    },
    {
     "data": {
      "image/png": "[encoded data removed]",
      "text/plain": [
       "<Figure size 432x288 with 1 Axes>"
      ]
     },
     "metadata": {
      "needs_background": "light"
     },
     "output_type": "display_data"
    }
   ],
   "source": [
    "cl_sig_testmin.plt_sigs()"
   ]
  },
  {
   "cell_type": "markdown",
   "metadata": {},
   "source": [
    "### Test - Even number of samples"
   ]
  },
  {
   "cell_type": "markdown",
   "metadata": {},
   "source": [
    "In this test a simple sin wave is created and passed into the signal feature object for processing"
   ]
  },
  {
   "cell_type": "code",
   "execution_count": null,
   "metadata": {},
   "outputs": [],
   "source": [
    "d_fs = 2048\n",
    "i_ns = (d_fs*2)\n",
    "d_freq_sig = 20./(float(i_ns)/d_fs)\n",
    "print('Signal frequency, hertz: ' + '%0.10f' % d_freq_sig)\n",
    "d_timebase_scale = float(i_ns)/(d_fs*12.)\n",
    "d_time_ext = np.linspace(0,(i_ns-1),i_ns)/float(i_ns)\n",
    "np_d_test = np.sin(2 * math.pi * d_freq_sig * d_time_ext )\n",
    "cl_sig_test01 = cl_sig_features(np_d_test, d_timebase_scale)"
   ]
  },
  {
   "cell_type": "markdown",
   "metadata": {},
   "source": [
    "#### Test plot"
   ]
  },
  {
   "cell_type": "code",
   "execution_count": null,
   "metadata": {},
   "outputs": [],
   "source": [
    "cl_sig_test01.plt_sigs()"
   ]
  },
  {
   "cell_type": "code",
   "execution_count": null,
   "metadata": {},
   "outputs": [],
   "source": [
    "lst_spec = cl_sig_test01.plt_spec()"
   ]
  },
  {
   "cell_type": "markdown",
   "metadata": {},
   "source": [
    "Extract the maximum value (assumed to be our component at 10 hertz) and check that the amplitude is very close to 1."
   ]
  },
  {
   "cell_type": "code",
   "execution_count": null,
   "metadata": {},
   "outputs": [],
   "source": [
    "d_test_point = np.max(np.abs(lst_spec[2]))\n",
    "print('Maximum spectral value: ' + '%0.10f' % d_test_point)\n",
    "assert abs(d_test_point - 1.) < 1e-12, 'Failed to find even component amplitude'"
   ]
  },
  {
   "cell_type": "code",
   "execution_count": null,
   "metadata": {},
   "outputs": [],
   "source": [
    "2 & 0x1"
   ]
  },
  {
   "cell_type": "markdown",
   "metadata": {},
   "source": [
    "### Test - Odd number of samples"
   ]
  },
  {
   "cell_type": "markdown",
   "metadata": {},
   "source": [
    "In this test a simple sin wave with an odd number of samples is created and passed into the signal feature object for processing. This is primarily to test the rfft scaling."
   ]
  },
  {
   "cell_type": "code",
   "execution_count": null,
   "metadata": {},
   "outputs": [],
   "source": [
    "d_fs = 2047\n",
    "i_ns = (d_fs*3)\n",
    "d_freq_sig = 30./(float(i_ns)/d_fs)\n",
    "print('Signal frequency, hertz: ' + '%0.6f' % d_freq_sig)\n",
    "d_timebase_scale = float(i_ns)/(d_fs*12.)\n",
    "d_time_ext = np.linspace(0,(i_ns-1),i_ns)/float(i_ns)\n",
    "np_d_test = np.sin(2 * math.pi * d_freq_sig * d_time_ext )\n",
    "cl_sig_test_odd = cl_sig_features(np_d_test, d_timebase_scale)"
   ]
  },
  {
   "cell_type": "markdown",
   "metadata": {},
   "source": [
    "#### Test plot"
   ]
  },
  {
   "cell_type": "code",
   "execution_count": null,
   "metadata": {},
   "outputs": [],
   "source": [
    "lst_plot_odd = cl_sig_test_odd.plt_sigs()"
   ]
  },
  {
   "cell_type": "code",
   "execution_count": null,
   "metadata": {},
   "outputs": [],
   "source": [
    "lst_spec = cl_sig_test_odd.plt_spec()"
   ]
  },
  {
   "cell_type": "code",
   "execution_count": null,
   "metadata": {},
   "outputs": [],
   "source": [
    "d_test_point = np.max(np.abs(lst_spec[2]))\n",
    "print('Maximum spectral value: ' + '%0.6f' % d_test_point)\n",
    "assert abs(d_test_point - 1.) < 1e-3, 'Failed to find odd component amplitude'"
   ]
  },
  {
   "cell_type": "markdown",
   "metadata": {},
   "source": [
    "### Test for engineering units"
   ]
  },
  {
   "cell_type": "code",
   "execution_count": null,
   "metadata": {},
   "outputs": [],
   "source": [
    "cl_sig_test01.str_eu = \"g's\""
   ]
  },
  {
   "cell_type": "code",
   "execution_count": null,
   "metadata": {},
   "outputs": [],
   "source": [
    "lst_sigs = cl_sig_test01.plt_sigs()"
   ]
  },
  {
   "cell_type": "code",
   "execution_count": null,
   "metadata": {},
   "outputs": [],
   "source": [
    "lst_sigs.set_size_inches(4*1.6, 4)\n",
    "lst_sigs.savefig('Test_Timebase.pdf')"
   ]
  },
  {
   "cell_type": "code",
   "execution_count": null,
   "metadata": {},
   "outputs": [],
   "source": [
    "lst_spec = cl_sig_test01.plt_spec()"
   ]
  },
  {
   "cell_type": "markdown",
   "metadata": {},
   "source": [
    "### Test plot annotations"
   ]
  },
  {
   "cell_type": "code",
   "execution_count": null,
   "metadata": {},
   "outputs": [],
   "source": [
    "cl_sig_test01.str_plot_desc = 'My Great Plot'\n",
    "lst_sigs_title = cl_sig_test01.plt_sigs()"
   ]
  },
  {
   "cell_type": "code",
   "execution_count": null,
   "metadata": {},
   "outputs": [],
   "source": [
    "lst_spec_title = cl_sig_test01.plt_spec()"
   ]
  },
  {
   "cell_type": "code",
   "execution_count": null,
   "metadata": {},
   "outputs": [],
   "source": [
    "cl_sig_test01.ylim_tb = [-2., 2.]\n",
    "lst_sigs_ylim_tb = cl_sig_test01.plt_sigs()"
   ]
  }
 ],
 "metadata": {
  "kernelspec": {
   "display_name": "Python 3 (ipykernel)",
   "language": "python",
   "name": "python3"
  },
  "language_info": {
   "codemirror_mode": {
    "name": "ipython",
    "version": 3
   },
   "file_extension": ".py",
   "mimetype": "text/x-python",
   "name": "python",
   "nbconvert_exporter": "python",
   "pygments_lexer": "ipython3",
   "version": "3.8.11"
  }
 },
 "nbformat": 4,
 "nbformat_minor": 4
}
