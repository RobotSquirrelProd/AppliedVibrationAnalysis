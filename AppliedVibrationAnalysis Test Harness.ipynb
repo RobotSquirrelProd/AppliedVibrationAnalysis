{
 "cells": [
  {
   "cell_type": "markdown",
   "metadata": {},
   "source": [
    "# Test harness for applied vibration class"
   ]
  },
  {
   "cell_type": "markdown",
   "metadata": {},
   "source": [
    "### Import the libraries"
   ]
  },
  {
   "cell_type": "code",
   "execution_count": 1,
   "metadata": {},
   "outputs": [],
   "source": [
    "import numpy as np\n",
    "import math\n",
    "import pandas as pd"
   ]
  },
  {
   "cell_type": "markdown",
   "metadata": {},
   "source": [
    "### Import the signal processing library"
   ]
  },
  {
   "cell_type": "code",
   "execution_count": 2,
   "metadata": {},
   "outputs": [],
   "source": [
    "from appvib import ClSigFeatures"
   ]
  },
  {
   "cell_type": "markdown",
   "metadata": {},
   "source": [
    "#### Verify help and class structure"
   ]
  },
  {
   "cell_type": "code",
   "execution_count": 3,
   "metadata": {},
   "outputs": [
    {
     "name": "stdout",
     "output_type": "stream",
     "text": [
      "Help on class ClSigFeatures in module appvib:\n",
      "\n",
      "class ClSigFeatures(builtins.object)\n",
      " |  ClSigFeatures(np_sig, d_fs)\n",
      " |  \n",
      " |  Class to manage signal features on scope data and other signals\n",
      " |  \n",
      " |  Example usage:\n",
      " |      cl_test = ClSigFeatures(np.array([1.,2., 3.]),1.1)\n",
      " |  \n",
      " |  Should produce:\n",
      " |  \n",
      " |      print('np_d_sig: '+ np.array2string(cl_test.np_d_sig))\n",
      " |      print('timebase_scale: ' + '%0.3f' % cl_test.timebase_scale)\n",
      " |      print('i_ns: ' + '%3.f' % cl_test.i_ns)\n",
      " |      print('d_t_del: ' + '%0.3f' % cl_test.d_t_del)\n",
      " |      print('d_time' + np.array2string(cl_test.d_time))\n",
      " |  \n",
      " |      np_d_sig: [1. 2. 3.]\n",
      " |      timebase_scale: 1.000\n",
      " |      i_ns:   3\n",
      " |      d_t_del: 4.000\n",
      " |      d_time[0. 4. 8.]\n",
      " |  \n",
      " |      Attributes\n",
      " |      ----------\n",
      " |  \n",
      " |      Methods\n",
      " |      -------\n",
      " |  \n",
      " |  Methods defined here:\n",
      " |  \n",
      " |  __init__(self, np_sig, d_fs)\n",
      " |      Parameters\n",
      " |      ----------\n",
      " |      np_sig : numpy array\n",
      " |          Vector with the signal of interest. Can be real- or complex-valued.\n",
      " |      d_fs : double\n",
      " |          Describes the sampling frequency in samples/second (hertz).\n",
      " |  \n",
      " |  b_save_data(self, str_data_prefix='testclass', idx_data=1)\n",
      " |      Save the data in the object to a .csv file\n",
      " |      \n",
      " |      Keyword arguments:\n",
      " |      str_data_prefix -- String with file prefix (defaults to 'testclass')\n",
      " |      idx_data -- File index (defaults to 1)\n",
      " |      \n",
      " |      Return values:\n",
      " |      True if write succeeds\n",
      " |  \n",
      " |  d_est_rpm(self, d_events_per_rev=1)\n",
      " |      Estimate the RPM from the signal using eventtimes which must have\n",
      " |      calculated from a previous call to the method np_d_est_triggers.\n",
      " |  \n",
      " |  d_fs(self, idx=0)\n",
      " |      Return the Sampling frequency in hertz\n",
      " |      \n",
      " |      Parameter\n",
      " |      ---------\n",
      " |      idx : integer\n",
      " |          Index of signal to pull description. Defaults to 0 (first signal)\n",
      " |  \n",
      " |  d_fs_update(self, d_fs_in, idx=0)\n",
      " |      Set the sampling frequency in hertz\n",
      " |      \n",
      " |      Parameters\n",
      " |      ---------\n",
      " |      d_fs_in : double\n",
      " |          Describes the sampling frequency in samples/second (hertz).\n",
      " |      \n",
      " |      idx : integer\n",
      " |          Index of signal to pull description. Defaults to 0 (first signal)\n",
      " |  \n",
      " |  d_t_del(self, idx=0)\n",
      " |      Delta time between each sample. This is allowed to vary across the signals\n",
      " |      \n",
      " |      Return\n",
      " |      ------\n",
      " |      double : Length of time between each sample\n",
      " |      \n",
      " |      Parameter\n",
      " |      ---------\n",
      " |      idx : integer\n",
      " |          Index of signal to pull description. Defaults to 0 (first signal)\n",
      " |  \n",
      " |  get_np_d_sig(self, idx=0)\n",
      " |      Numpy array containing arbitrary signal\n",
      " |  \n",
      " |  idx_add_sig(self, np_sig_in, d_fs_in)\n",
      " |      Add another signal to this object.\n",
      " |      returns index to the newly added signal.\n",
      " |  \n",
      " |  np_d_est_triggers(self, i_direction=0, d_thresh=0, d_hyst=0.1, i_kernel=5, b_verbose=False)\n",
      " |      This method estimates speed by identifying trigger points in time,\n",
      " |      a given threshold and hysteresis. When the signal level crosses\n",
      " |      the threshold, the trigger holds off. The trigger holds off\n",
      " |      until the signal crosses the hysteresis level. Hysteresis is\n",
      " |      defined relative to the threshold voltage.\n",
      " |      \n",
      " |      The trigger times can be used to estimate the rotating speed.\n",
      " |      \n",
      " |      Keyword arguments:\n",
      " |      i_direction -- 0 to search for threshold on rising signal, 1 to search\n",
      " |                      on a falling signal.\n",
      " |      d_thresh  -- Threshold value (default: 0.0 volts for zero crossings)\n",
      " |      d_hyst -- Hysteresis value (default: 0.1 volts)\n",
      " |      i_kernel -- Number of samples to consider in estimating slope,\n",
      " |                      must be an odd number (default: 5)\n",
      " |      b_verbose -- Print the intermediate steps (default: False). Useful\n",
      " |                      for stepping through the method to troubleshoot or\n",
      " |                      understand it better.\n",
      " |      \n",
      " |      Return values:\n",
      " |      np_d_eventtimes -- numpy array with list of trigger event times\n",
      " |  \n",
      " |  plt_eventtimes(self)\n",
      " |      Plot event data in time.\n",
      " |      \n",
      " |      Return values:\n",
      " |      list: [handle to the plot, np array of eventtimes]\n",
      " |  \n",
      " |  plt_rpm(self)\n",
      " |      Plot rpm data in time.\n",
      " |      \n",
      " |      Return values:\n",
      " |      list: [handle to the plot, np array of RPM values]\n",
      " |  \n",
      " |  plt_sigs(self)\n",
      " |      Plot out the data in this signal feature class in the time domain\n",
      " |      \n",
      " |      Return values:\n",
      " |      handle to the plot\n",
      " |  \n",
      " |  plt_spec(self)\n",
      " |      Plot data in frequency domain. This method assumes a real signal\n",
      " |      \n",
      " |      Return values:\n",
      " |      handle to the plot\n",
      " |  \n",
      " |  str_filt_butter_desc(self, idx=0)\n",
      " |      Complete description of the Butterworth filter design\n",
      " |      \n",
      " |      Parameter\n",
      " |      ---------\n",
      " |      idx : integer\n",
      " |          Index of signal to pull description. Defaults to 0 (first signal)\n",
      " |  \n",
      " |  str_filt_butter_desc_short(self, idx=0)\n",
      " |      Abbreviated description of the Butterworth filter design, useful for legend labels\n",
      " |      \n",
      " |      Parameter\n",
      " |      ---------\n",
      " |      idx : integer\n",
      " |          Index of signal to pull description. Defaults to 0 (first signal)\n",
      " |  \n",
      " |  str_filt_sg_desc(self, idx=0)\n",
      " |      Complete Filt description of the Savitsky-Golay filter design\n",
      " |  \n",
      " |  str_filt_sg_desc_short(self, idx=0)\n",
      " |      Short Filt description, useful for plot legend labels\n",
      " |  \n",
      " |  ----------------------------------------------------------------------\n",
      " |  Readonly properties defined here:\n",
      " |  \n",
      " |  b_complex\n",
      " |  \n",
      " |  d_events_per_rev\n",
      " |      Events per revolution\n",
      " |  \n",
      " |  d_thresh\n",
      " |      Trigger threshold value\n",
      " |  \n",
      " |  d_time\n",
      " |      Numpy array with time values, in seconds\n",
      " |  \n",
      " |  i_ns\n",
      " |      Number of samples\n",
      " |  \n",
      " |  np_d_eventtimes\n",
      " |      Numpy array of trigger event times\n",
      " |  \n",
      " |  np_d_rpm\n",
      " |      Estimated RPM values\n",
      " |  \n",
      " |  str_file\n",
      " |      Output (.csv) file name\n",
      " |  \n",
      " |  ----------------------------------------------------------------------\n",
      " |  Data descriptors defined here:\n",
      " |  \n",
      " |  __dict__\n",
      " |      dictionary for instance variables (if defined)\n",
      " |  \n",
      " |  __weakref__\n",
      " |      list of weak references to the object (if defined)\n",
      " |  \n",
      " |  b_spec_peak\n",
      " |      Boolean set to true to label peak in spectrum\n",
      " |  \n",
      " |  np_d_sig\n",
      " |      Numpy array containing the first signal\n",
      " |  \n",
      " |  str_eu\n",
      " |      Engineering unit descriptor\n",
      " |  \n",
      " |  str_plot_desc\n",
      " |      Plot description\n",
      "\n"
     ]
    }
   ],
   "source": [
    "help(ClSigFeatures)"
   ]
  },
  {
   "cell_type": "markdown",
   "metadata": {},
   "source": [
    "### Define plot mode. \n",
    "Interactive mode is helpful for visuallizing the program execution"
   ]
  },
  {
   "cell_type": "code",
   "execution_count": 4,
   "metadata": {},
   "outputs": [],
   "source": [
    "#%matplotlib widget"
   ]
  },
  {
   "cell_type": "markdown",
   "metadata": {},
   "source": [
    "### Test for minimal construction"
   ]
  },
  {
   "cell_type": "code",
   "execution_count": 5,
   "metadata": {},
   "outputs": [],
   "source": [
    "ClSigTestMin = ClSigFeatures(np.array([1.,2., 3.]),1.1)"
   ]
  },
  {
   "cell_type": "code",
   "execution_count": 6,
   "metadata": {
    "scrolled": true
   },
   "outputs": [
    {
     "data": {
      "image/png": "[encoded data removed]",
      "text/plain": [
       "<Figure size 432x288 with 1 Axes>"
      ]
     },
     "metadata": {
      "needs_background": "light"
     },
     "output_type": "display_data"
    }
   ],
   "source": [
    "lst_testmin = ClSigTestMin.plt_sigs()"
   ]
  },
  {
   "cell_type": "markdown",
   "metadata": {},
   "source": [
    "### Test - Even number of samples"
   ]
  },
  {
   "cell_type": "markdown",
   "metadata": {},
   "source": [
    "In this test a simple sin wave is created and passed into the signal feature object for processing"
   ]
  },
  {
   "cell_type": "code",
   "execution_count": 7,
   "metadata": {},
   "outputs": [
    {
     "name": "stdout",
     "output_type": "stream",
     "text": [
      "Signal frequency, hertz: 10.0000000000\n"
     ]
    }
   ],
   "source": [
    "d_fs = 2048\n",
    "i_ns = (d_fs*2)\n",
    "d_freq_sig = 20./(float(i_ns)/d_fs)\n",
    "print('Signal frequency, hertz: ' + '%0.10f' % d_freq_sig)\n",
    "d_timebase_scale = float(i_ns)/(d_fs*12.)\n",
    "d_time_ext = np.linspace(0,(i_ns-1),i_ns)/float(i_ns)\n",
    "np_d_test = np.sin(2 * math.pi * d_freq_sig * d_time_ext )\n",
    "ClSigEven = ClSigFeatures(np_d_test, d_timebase_scale)"
   ]
  },
  {
   "cell_type": "markdown",
   "metadata": {},
   "source": [
    "#### Test plot"
   ]
  },
  {
   "cell_type": "code",
   "execution_count": 8,
   "metadata": {},
   "outputs": [
    {
     "data": {
      "image/png": "[encoded data removed]",
      "text/plain": [
       "<Figure size 432x288 with 1 Axes>"
      ]
     },
     "metadata": {
      "needs_background": "light"
     },
     "output_type": "display_data"
    }
   ],
   "source": [
    "lst_sig_even = ClSigEven.plt_sigs()"
   ]
  },
  {
   "cell_type": "code",
   "execution_count": 9,
   "metadata": {},
   "outputs": [
    {
     "ename": "TypeError",
     "evalue": "'float' object is not callable",
     "output_type": "error",
     "traceback": [
      "\u001b[1;31m---------------------------------------------------------------------------\u001b[0m",
      "\u001b[1;31mTypeError\u001b[0m                                 Traceback (most recent call last)",
      "\u001b[1;32m~\\AppData\\Local\\Temp/ipykernel_15024/1328701308.py\u001b[0m in \u001b[0;36m<module>\u001b[1;34m\u001b[0m\n\u001b[1;32m----> 1\u001b[1;33m \u001b[0mlst_spec_even\u001b[0m \u001b[1;33m=\u001b[0m \u001b[0mClSigEven\u001b[0m\u001b[1;33m.\u001b[0m\u001b[0mplt_spec\u001b[0m\u001b[1;33m(\u001b[0m\u001b[1;33m)\u001b[0m\u001b[1;33m\u001b[0m\u001b[1;33m\u001b[0m\u001b[0m\n\u001b[0m",
      "\u001b[1;32mH:\\Documents\\Hobby\\IssaquahDynamical\\RobotSquirrelRepo\\AppliedVibrationAnalysis\\appvib.py\u001b[0m in \u001b[0;36mplt_spec\u001b[1;34m(self)\u001b[0m\n\u001b[0;32m    659\u001b[0m         \u001b[0mhandle\u001b[0m \u001b[0mto\u001b[0m \u001b[0mthe\u001b[0m \u001b[0mplot\u001b[0m\u001b[1;33m\u001b[0m\u001b[1;33m\u001b[0m\u001b[0m\n\u001b[0;32m    660\u001b[0m         \"\"\"\n\u001b[1;32m--> 661\u001b[1;33m         \u001b[0mspec\u001b[0m \u001b[1;33m=\u001b[0m \u001b[0mself\u001b[0m\u001b[1;33m.\u001b[0m\u001b[0m__lst_cl_sgs\u001b[0m\u001b[1;33m[\u001b[0m\u001b[1;36m0\u001b[0m\u001b[1;33m]\u001b[0m\u001b[1;33m.\u001b[0m\u001b[0md_fft_real\u001b[0m\u001b[1;33m(\u001b[0m\u001b[1;33m)\u001b[0m\u001b[1;33m\u001b[0m\u001b[1;33m\u001b[0m\u001b[0m\n\u001b[0m\u001b[0;32m    662\u001b[0m         \u001b[0md_mag\u001b[0m \u001b[1;33m=\u001b[0m \u001b[0mnp\u001b[0m\u001b[1;33m.\u001b[0m\u001b[0mabs\u001b[0m\u001b[1;33m(\u001b[0m\u001b[0mspec\u001b[0m\u001b[1;33m[\u001b[0m\u001b[1;36m1\u001b[0m\u001b[1;33m]\u001b[0m\u001b[1;33m)\u001b[0m\u001b[1;33m\u001b[0m\u001b[1;33m\u001b[0m\u001b[0m\n\u001b[0;32m    663\u001b[0m         \u001b[0mplt\u001b[0m\u001b[1;33m.\u001b[0m\u001b[0mfigure\u001b[0m\u001b[1;33m(\u001b[0m\u001b[1;33m)\u001b[0m\u001b[1;33m\u001b[0m\u001b[1;33m\u001b[0m\u001b[0m\n",
      "\u001b[1;32mH:\\Documents\\Hobby\\IssaquahDynamical\\RobotSquirrelRepo\\AppliedVibrationAnalysis\\appvib.py\u001b[0m in \u001b[0;36md_fft_real\u001b[1;34m(self)\u001b[0m\n\u001b[0;32m    284\u001b[0m \u001b[1;33m\u001b[0m\u001b[0m\n\u001b[0;32m    285\u001b[0m         \u001b[1;31m# Calculate the frequency scale\u001b[0m\u001b[1;33m\u001b[0m\u001b[1;33m\u001b[0m\u001b[1;33m\u001b[0m\u001b[0m\n\u001b[1;32m--> 286\u001b[1;33m         \u001b[0md_ws\u001b[0m \u001b[1;33m=\u001b[0m \u001b[0mrfftfreq\u001b[0m\u001b[1;33m(\u001b[0m\u001b[0mself\u001b[0m\u001b[1;33m.\u001b[0m\u001b[0mi_ns\u001b[0m\u001b[1;33m,\u001b[0m \u001b[1;36m1.\u001b[0m \u001b[1;33m/\u001b[0m \u001b[0mself\u001b[0m\u001b[1;33m.\u001b[0m\u001b[0md_fs\u001b[0m\u001b[1;33m(\u001b[0m\u001b[1;33m)\u001b[0m\u001b[1;33m)\u001b[0m\u001b[1;33m\u001b[0m\u001b[1;33m\u001b[0m\u001b[0m\n\u001b[0m\u001b[0;32m    287\u001b[0m \u001b[1;33m\u001b[0m\u001b[0m\n\u001b[0;32m    288\u001b[0m         \u001b[1;31m# Return the values\u001b[0m\u001b[1;33m\u001b[0m\u001b[1;33m\u001b[0m\u001b[1;33m\u001b[0m\u001b[0m\n",
      "\u001b[1;31mTypeError\u001b[0m: 'float' object is not callable"
     ]
    }
   ],
   "source": [
    "lst_spec_even = ClSigEven.plt_spec()"
   ]
  },
  {
   "cell_type": "markdown",
   "metadata": {},
   "source": [
    "Extract the maximum value (assumed to be our component at 10 hertz) and check that the amplitude is very close to 1."
   ]
  },
  {
   "cell_type": "code",
   "execution_count": null,
   "metadata": {},
   "outputs": [],
   "source": [
    "d_test_point = np.max(np.abs(lst_spec_even[2]))\n",
    "print('Maximum spectral value: ' + '%0.10f' % d_test_point)\n",
    "assert abs(d_test_point - 1.) < 1e-12, 'Failed to find even component amplitude'"
   ]
  },
  {
   "cell_type": "markdown",
   "metadata": {},
   "source": [
    "### Test - Odd number of samples"
   ]
  },
  {
   "cell_type": "markdown",
   "metadata": {},
   "source": [
    "In this test a simple sin wave with an odd number of samples is created and passed into the signal feature object for processing. This is primarily to test the rfft scaling."
   ]
  },
  {
   "cell_type": "code",
   "execution_count": null,
   "metadata": {},
   "outputs": [],
   "source": [
    "d_fs = 2047\n",
    "i_ns = (d_fs*3)\n",
    "d_freq_sig = 30./(float(i_ns)/d_fs)\n",
    "print('Signal frequency, hertz: ' + '%0.6f' % d_freq_sig)\n",
    "d_time_ext = np.linspace(0,(i_ns-1),i_ns)/float(i_ns)\n",
    "np_d_test = np.sin(2 * math.pi * d_freq_sig * d_time_ext )\n",
    "ClSigOdd = ClSigFeatures(np_d_test, d_fs)"
   ]
  },
  {
   "cell_type": "markdown",
   "metadata": {},
   "source": [
    "#### Test plot"
   ]
  },
  {
   "cell_type": "code",
   "execution_count": null,
   "metadata": {},
   "outputs": [],
   "source": [
    "lst_plot_odd = ClSigOdd.plt_sigs()"
   ]
  },
  {
   "cell_type": "code",
   "execution_count": null,
   "metadata": {},
   "outputs": [],
   "source": [
    "lst_spec_odd = ClSigOdd.plt_spec()"
   ]
  },
  {
   "cell_type": "code",
   "execution_count": null,
   "metadata": {},
   "outputs": [],
   "source": [
    "d_test_point = np.max(np.abs(lst_spec_odd[2]))\n",
    "print('Maximum spectral value: ' + '%0.6f' % d_test_point)\n",
    "assert abs(d_test_point - 1.) < 1e-3, 'Failed to find odd component amplitude'"
   ]
  },
  {
   "cell_type": "markdown",
   "metadata": {},
   "source": [
    "### Test for engineering units"
   ]
  },
  {
   "cell_type": "code",
   "execution_count": null,
   "metadata": {},
   "outputs": [],
   "source": [
    "ClSigTestMin.str_eu = \"g's\""
   ]
  },
  {
   "cell_type": "code",
   "execution_count": null,
   "metadata": {},
   "outputs": [],
   "source": [
    "lst_sigs_eu = ClSigTestMin.plt_sigs()"
   ]
  },
  {
   "cell_type": "code",
   "execution_count": null,
   "metadata": {},
   "outputs": [],
   "source": [
    "lst_sigs_eu.set_size_inches(4*1.6, 4)\n",
    "lst_sigs_eu.savefig('Test_Timebase_EU.pdf')"
   ]
  },
  {
   "cell_type": "code",
   "execution_count": null,
   "metadata": {},
   "outputs": [],
   "source": [
    "lst_spec_eu = ClSigTestMin.plt_spec()"
   ]
  },
  {
   "cell_type": "markdown",
   "metadata": {},
   "source": [
    "### Test plot annotations"
   ]
  },
  {
   "cell_type": "code",
   "execution_count": null,
   "metadata": {},
   "outputs": [],
   "source": [
    "ClSigTestMin.str_plot_desc = 'My Great Plot'\n",
    "lst_sigs_title = ClSigTestMin.plt_sigs()"
   ]
  },
  {
   "cell_type": "code",
   "execution_count": null,
   "metadata": {},
   "outputs": [],
   "source": [
    "lst_spec_title = ClSigTestMin.plt_spec()"
   ]
  },
  {
   "cell_type": "code",
   "execution_count": null,
   "metadata": {},
   "outputs": [],
   "source": [
    "ClSigTestMin.ylim_tb = [-2., 2.]\n",
    "lst_sigs_ylim_tb = ClSigTestMin.plt_sigs()"
   ]
  },
  {
   "cell_type": "markdown",
   "metadata": {},
   "source": [
    "#### Labelling for the minimum instatiation case"
   ]
  },
  {
   "cell_type": "code",
   "execution_count": null,
   "metadata": {},
   "outputs": [],
   "source": [
    "ClSigTestMin.b_spec_peak = True\n",
    "lst_spec_peak_tb = ClSigTestMin.plt_spec()"
   ]
  },
  {
   "cell_type": "markdown",
   "metadata": {},
   "source": [
    "#### Labelling for the even number of sample cases"
   ]
  },
  {
   "cell_type": "code",
   "execution_count": null,
   "metadata": {},
   "outputs": [],
   "source": [
    "ClSigEven.b_spec_peak = True\n",
    "lst_spec_peak_tb = ClSigEven.plt_spec()"
   ]
  },
  {
   "cell_type": "markdown",
   "metadata": {},
   "source": [
    "#### Labelling for the odd number of sample cases"
   ]
  },
  {
   "cell_type": "code",
   "execution_count": null,
   "metadata": {},
   "outputs": [],
   "source": [
    "ClSigOdd.b_spec_peak = True\n",
    "lst_spec_peak_tb = ClSigOdd.plt_spec()"
   ]
  },
  {
   "cell_type": "markdown",
   "metadata": {},
   "source": [
    "### Test for minimal construction, multiple channels"
   ]
  },
  {
   "cell_type": "markdown",
   "metadata": {},
   "source": [
    "#### First channel (index = 0)"
   ]
  },
  {
   "cell_type": "code",
   "execution_count": null,
   "metadata": {},
   "outputs": [],
   "source": [
    "d_fs_ch1 = 1.1\n",
    "cl_sig_mult_ch = ClSigFeatures(np.array([1.,2., 3.]),d_fs_ch1)"
   ]
  },
  {
   "cell_type": "markdown",
   "metadata": {},
   "source": [
    "#### Second channel (index = 1)"
   ]
  },
  {
   "cell_type": "code",
   "execution_count": null,
   "metadata": {},
   "outputs": [],
   "source": [
    "d_fs_ch2 = 2.2\n",
    "np_ch2 = np.array([3., 2.5, 2.])\n",
    "cl_sig_mult_ch.idx_add_sig(np_ch2, d_fs_ch2) "
   ]
  },
  {
   "cell_type": "code",
   "execution_count": null,
   "metadata": {
    "scrolled": true
   },
   "outputs": [],
   "source": [
    "lst_testmin = cl_sig_mult_ch.plt_sigs()"
   ]
  },
  {
   "cell_type": "code",
   "execution_count": null,
   "metadata": {},
   "outputs": [],
   "source": [
    "cl_sig_mult_ch.b_save_data()"
   ]
  },
  {
   "cell_type": "markdown",
   "metadata": {},
   "source": [
    "Read the file back in and compare to the input data"
   ]
  },
  {
   "cell_type": "code",
   "execution_count": null,
   "metadata": {},
   "outputs": [],
   "source": [
    "import csv"
   ]
  },
  {
   "cell_type": "code",
   "execution_count": null,
   "metadata": {},
   "outputs": [],
   "source": [
    "str_filename = cl_sig_mult_ch.str_file\n",
    "print(str_filename)\n",
    "file_handle = open(str_filename)\n",
    "csvreader = csv.reader(file_handle)\n",
    "csv_header = []\n",
    "csv_header = next(csvreader)\n",
    "print(csv_header)"
   ]
  },
  {
   "cell_type": "code",
   "execution_count": null,
   "metadata": {},
   "outputs": [],
   "source": [
    "df_test = pd.read_csv(str_filename, header=None, skiprows=2, names=csv_header[0:5] )\n",
    "df_test"
   ]
  },
  {
   "cell_type": "code",
   "execution_count": null,
   "metadata": {},
   "outputs": [],
   "source": [
    "assert abs(df_test.CH2[2] - np_ch2[2]) < 1e-15, 'Failed to save second data series' \n",
    "assert abs(df_test.CH2[1] - np_ch2[1]) < 1e-15, 'Failed to save second data series' "
   ]
  }
 ],
 "metadata": {
  "kernelspec": {
   "display_name": "Python 3 (ipykernel)",
   "language": "python",
   "name": "python3"
  },
  "language_info": {
   "codemirror_mode": {
    "name": "ipython",
    "version": 3
   },
   "file_extension": ".py",
   "mimetype": "text/x-python",
   "name": "python",
   "nbconvert_exporter": "python",
   "pygments_lexer": "ipython3",
   "version": "3.8.11"
  }
 },
 "nbformat": 4,
 "nbformat_minor": 4
}
