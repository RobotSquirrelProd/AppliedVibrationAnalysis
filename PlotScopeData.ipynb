{
 "cells": [
  {
   "cell_type": "markdown",
   "metadata": {},
   "source": [
    "# Plot data from Rigol DS1054Z scope"
   ]
  },
  {
   "cell_type": "markdown",
   "metadata": {},
   "source": [
    "### Import the libraries"
   ]
  },
  {
   "cell_type": "code",
   "execution_count": 1,
   "metadata": {},
   "outputs": [],
   "source": [
    "import matplotlib.pyplot as plt\n",
    "plt.rcParams['figure.figsize'] = [6, 8]\n",
    "plt.rcParams['figure.dpi'] = 150\n",
    "import numpy as np\n",
    "import math\n",
    "import pandas as pd\n",
    "import csv\n",
    "from datetime import datetime \n",
    "import glob"
   ]
  },
  {
   "cell_type": "markdown",
   "metadata": {},
   "source": [
    "### Import local libraries"
   ]
  },
  {
   "cell_type": "code",
   "execution_count": 2,
   "metadata": {},
   "outputs": [],
   "source": [
    "from appvib import ClSigFeatures, ClSigCompUneven"
   ]
  },
  {
   "cell_type": "markdown",
   "metadata": {},
   "source": [
    "### Define plot mode. \n",
    "Interactive mode is helpful for visuallizing the program execution"
   ]
  },
  {
   "cell_type": "code",
   "execution_count": 3,
   "metadata": {},
   "outputs": [],
   "source": [
    "#%matplotlib widget"
   ]
  },
  {
   "cell_type": "markdown",
   "metadata": {},
   "source": [
    "### Define function to read header values"
   ]
  },
  {
   "cell_type": "code",
   "execution_count": 4,
   "metadata": {},
   "outputs": [],
   "source": [
    "def get_header(str_filename_in):\n",
    "    \"\"\"\n",
    "    \n",
    "    Pulls in the header information from the scope files\n",
    "    \n",
    "    Parameters\n",
    "    ----------\n",
    "    str_filename_in : string\n",
    "        full file name to read\n",
    "        \n",
    "    Returns\n",
    "    -------\n",
    "    list : header values\n",
    "    \n",
    "    \"\"\"\n",
    "    \n",
    "    # Read the CSV headers\n",
    "    print(str_filename_in)\n",
    "    file_handle = open(str_filename_in)\n",
    "    csv_reader = csv.reader(file_handle)\n",
    "    lst_header = next(csv_reader)\n",
    "    print(lst_header)\n",
    "    file_handle.close()\n",
    "\n",
    "    return lst_header"
   ]
  },
  {
   "cell_type": "markdown",
   "metadata": {},
   "source": [
    "### Define files to read"
   ]
  },
  {
   "cell_type": "markdown",
   "metadata": {},
   "source": [
    "A helpful discussion on getting .csv files into Panda:\n",
    "https://stackoverflow.com/questions/20906474/import-multiple-csv-files-into-pandas-and-concatenate-into-one-dataframe"
   ]
  },
  {
   "cell_type": "markdown",
   "metadata": {},
   "source": [
    "#### Define the files to be read"
   ]
  },
  {
   "cell_type": "markdown",
   "metadata": {},
   "source": [
    "Choose files "
   ]
  },
  {
   "cell_type": "code",
   "execution_count": 5,
   "metadata": {},
   "outputs": [],
   "source": [
    "lst_filenames = ['test_001_000.csv', 'test_001_001.csv', 'test_001_002.csv']"
   ]
  },
  {
   "cell_type": "markdown",
   "metadata": {},
   "source": [
    "Or all files with a given extension in the current director"
   ]
  },
  {
   "cell_type": "code",
   "execution_count": 6,
   "metadata": {},
   "outputs": [],
   "source": [
    "#lst_filenames = []\n",
    "#for file in glob.glob(\"*.csv\"):\n",
    "#    lst_filenames.append(file)"
   ]
  },
  {
   "cell_type": "markdown",
   "metadata": {},
   "source": [
    "#### Read in the first data set and visualize the results"
   ]
  },
  {
   "cell_type": "code",
   "execution_count": 7,
   "metadata": {},
   "outputs": [
    {
     "name": "stdout",
     "output_type": "stream",
     "text": [
      "Help on function b_read_data_as_df in module appvib:\n",
      "\n",
      "b_read_data_as_df(self, str_filename=None)\n",
      "    Read the entire file in as a pandas dataframe\n",
      "    \n",
      "    Parameters\n",
      "    ----------\n",
      "    str_filename : string\n",
      "        Filename, including .csv extension,  to read. If None then filename stored\n",
      "        in the class is used\n",
      "    \n",
      "    Returns\n",
      "    --------\n",
      "    lst_data : list\n",
      "            pandas dataframe : dataframe with all data from the file\n",
      "            numpy array, datetime : vector with date and timestamps\n",
      "            numpy array, double : vector with signal sampling rates\n",
      "            numpy array, double : vector with delta time interval for each signal\n",
      "            list, string :  list with engineering units descriptions\n",
      "            list, string : machine name\n",
      "\n"
     ]
    }
   ],
   "source": [
    "help(ClSigFeatures.b_read_data_as_df)"
   ]
  },
  {
   "cell_type": "markdown",
   "metadata": {},
   "source": [
    "Setup the storage arrays"
   ]
  },
  {
   "cell_type": "code",
   "execution_count": 8,
   "metadata": {},
   "outputs": [],
   "source": [
    "dt_timestamp_base = datetime.now()\n",
    "np_d_time = np.array([])\n",
    "np_d_nx = np.array([])"
   ]
  },
  {
   "cell_type": "markdown",
   "metadata": {},
   "source": [
    "Loop through the files"
   ]
  },
  {
   "cell_type": "code",
   "execution_count": null,
   "metadata": {},
   "outputs": [],
   "source": [
    "for idx, str_filename in enumerate(lst_filenames):\n",
    "    class_file = ClSigFeatures([1.,2.,3.], 1.)\n",
    "    lst_file = class_file.b_read_data_as_df(str_filename)\n",
    "\n",
    "    df1 = lst_file[0]\n",
    "    np_dt_timestamp = lst_file[1]\n",
    "    d_seconds = 0.0\n",
    "    if idx == 0:\n",
    "        dt_timestamp_base = np_dt_timestamp[0]\n",
    "    else:\n",
    "        d_seconds = (np_dt_timestamp[0] - dt_timestamp_base).total_seconds()\n",
    "    np_d_fs = lst_file[2]\n",
    "    lst_str_eu = lst_file[4]\n",
    "    lst_str_machine_name = lst_file[5]\n",
    "    \n",
    "    # Validate input\n",
    "    assert( len(df1.CH1) == 1200) , 'Failed to load the correct number of samples'\n",
    "\n",
    "    # Instantiate a new class and populate it with the file contents\n",
    "    class1 = ClSigFeatures(df1.CH1, np_d_fs[0], dt_timestamp=np_dt_timestamp[0], str_machine_name=lst_str_machine_name[1])\n",
    "    \n",
    "    # Plotting limits, then plot the signal\n",
    "    plt.rcParams['figure.figsize'] = [6, 4]\n",
    "    class1.ylim_tb(ylim_tb_in=[-0.5, 0.5])\n",
    "    lst_plot_sig = class1.plt_sigs(b_plot_sg=True)\n",
    "    lst_plot_sig.savefig('TestPlot.pdf')\n",
    "    \n",
    "    # Add the second signal and plot it\n",
    "    plt.rcParams['figure.figsize'] = [6, 8]\n",
    "    class1.idx_add_sig(df1.CH2, d_fs=np_d_fs[1], str_point_name='CH2', dt_timestamp=np_dt_timestamp[1], \n",
    "                       str_machine_name=lst_str_machine_name[2])    \n",
    "    class1.ylim_tb(ylim_tb_in=[-1.0, 1.0], idx=1)\n",
    "    lst_plot_sig = class1.plt_sigs(b_plot_sg=True)\n",
    "    lst_plot_sig.savefig('TestPlot2.pdf')\n",
    "    \n",
    "    np_d_eventtimes = class1.np_d_est_triggers(np_d_sig=class1.np_d_sig, i_direction=0, d_threshold=0.125)\n",
    "    lst_plt_eventtimes = class1.plt_eventtimes(idx_eventtimes=0, idx=1)\n",
    "    \n",
    "    # 1X extraction\n",
    "    np_d_nx = np.append(np_d_nx, class1.calc_nx(np_d_sig=class1.get_np_d_sig(idx=1), np_d_eventtimes=class1.np_d_eventtimes(),\n",
    "                                          b_verbose=False))\n",
    "    lst_apht = class1.plt_apht()\n",
    "    \n",
    "    # Time series\n",
    "    np_d_time = np.append(np_d_time, class1.np_d_eventtimes()+d_seconds)"
   ]
  },
  {
   "cell_type": "code",
   "execution_count": null,
   "metadata": {},
   "outputs": [],
   "source": [
    "plt.plot(np_d_time,np.abs(np_d_nx))"
   ]
  },
  {
   "cell_type": "code",
   "execution_count": null,
   "metadata": {},
   "outputs": [],
   "source": [
    "class_nx = ClSigCompUneven(np_d_nx, np_d_time, str_eu='volts', str_point_name='CH1', dt_timestamp=dt_timestamp_base)\n",
    "class_nx.str_plot_desc = 'Baseline run'\n",
    "lst_apht = class_nx.plt_apht()"
   ]
  },
  {
   "cell_type": "code",
   "execution_count": null,
   "metadata": {},
   "outputs": [],
   "source": [
    "lst_polor = class_nx.plt_polar()"
   ]
  }
 ],
 "metadata": {
  "kernelspec": {
   "display_name": "pyenv3100",
   "language": "python",
   "name": "pyenv3100"
  },
  "language_info": {
   "codemirror_mode": {
    "name": "ipython",
    "version": 3
   },
   "file_extension": ".py",
   "mimetype": "text/x-python",
   "name": "python",
   "nbconvert_exporter": "python",
   "pygments_lexer": "ipython3",
   "version": "3.10.1"
  }
 },
 "nbformat": 4,
 "nbformat_minor": 4
}
