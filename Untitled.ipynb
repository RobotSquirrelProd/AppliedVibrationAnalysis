{
 "cells": [
  {
   "cell_type": "markdown",
   "id": "00beeb0d",
   "metadata": {},
   "source": [
    "### FFT in XYZ steps"
   ]
  },
  {
   "cell_type": "markdown",
   "id": "0211b4d7",
   "metadata": {},
   "source": [
    "#### Import the libraries we need"
   ]
  },
  {
   "cell_type": "code",
   "execution_count": 1,
   "id": "a27ff9dc",
   "metadata": {},
   "outputs": [],
   "source": [
    "from scipy.fft import rfft, rfftfreq\n",
    "import matplotlib.pyplot as plt\n",
    "import numpy as np\n",
    "import math"
   ]
  },
  {
   "cell_type": "markdown",
   "id": "965f17d2",
   "metadata": {},
   "source": [
    "#### Plot in Interactive mode"
   ]
  },
  {
   "cell_type": "code",
   "execution_count": 2,
   "id": "de58350d",
   "metadata": {},
   "outputs": [],
   "source": [
    "%matplotlib widget"
   ]
  },
  {
   "cell_type": "markdown",
   "id": "023187fe",
   "metadata": {},
   "source": [
    "#### Synthesize a signal\n",
    "d_fs -- Sampling frequency, hertz\n",
    "d_time -- Time series, seconds\n",
    "d_f_sig -- Signal sunsoidal freqeuncy, hertz\n",
    "d_sig -- Signal itself"
   ]
  },
  {
   "cell_type": "code",
   "execution_count": 7,
   "id": "81f6cb5a",
   "metadata": {},
   "outputs": [],
   "source": [
    "d_fs = 2048\n",
    "i_ns = (2*d_fs)\n",
    "d_time = np.linspace(0, (i_ns-1), i_ns)/d_fs\n",
    "d_f_sig = 10\n",
    "d_sig = np.sin(2* math.pi * d_time *d_f_sig)"
   ]
  },
  {
   "cell_type": "code",
   "execution_count": 10,
   "id": "c4073423",
   "metadata": {},
   "outputs": [
    {
     "data": {
      "application/vnd.jupyter.widget-view+json": {
       "model_id": "446e8be68ab24d3eafc22a49b3a4b156",
       "version_major": 2,
       "version_minor": 0
      },
      "text/plain": [
       "Canvas(toolbar=Toolbar(toolitems=[('Home', 'Reset original view', 'home', 'home'), ('Back', 'Back to previous …"
      ]
     },
     "metadata": {},
     "output_type": "display_data"
    },
    {
     "data": {
      "text/plain": [
       "Text(0.5, 1.0, 'Sin wave')"
      ]
     },
     "execution_count": 10,
     "metadata": {},
     "output_type": "execute_result"
    }
   ],
   "source": [
    "plt.figure()\n",
    "plt.plot(d_time, d_sig)\n",
    "plt.xlabel('Time, seconds')\n",
    "plt.ylabel('Amplitude, -')\n",
    "plt.title('Sin wave')"
   ]
  }
 ],
 "metadata": {
  "kernelspec": {
   "display_name": "Python 3 (ipykernel)",
   "language": "python",
   "name": "python3"
  },
  "language_info": {
   "codemirror_mode": {
    "name": "ipython",
    "version": 3
   },
   "file_extension": ".py",
   "mimetype": "text/x-python",
   "name": "python",
   "nbconvert_exporter": "python",
   "pygments_lexer": "ipython3",
   "version": "3.8.11"
  }
 },
 "nbformat": 4,
 "nbformat_minor": 5
}
